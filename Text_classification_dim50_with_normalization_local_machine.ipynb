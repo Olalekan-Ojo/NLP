{
 "cells": [
  {
   "cell_type": "markdown",
   "metadata": {
    "id": "b8LlT9tF82y1"
   },
   "source": [
    "**NLP: ASSIGNMENT 1 TEXT CLASSIFICATION**"
   ]
  },
  {
   "cell_type": "markdown",
   "metadata": {
    "id": "eQVvftRo9BbX"
   },
   "source": [
    "Importing Neccessary libraries"
   ]
  },
  {
   "cell_type": "code",
   "execution_count": 5,
   "metadata": {},
   "outputs": [
    {
     "name": "stdout",
     "output_type": "stream",
     "text": [
      "Requirement already satisfied: numpy in ./lib/python3.8/site-packages (1.24.3)\n",
      "Requirement already satisfied: tensorflow in ./lib/python3.8/site-packages (2.13.1)\n",
      "Requirement already satisfied: absl-py>=1.0.0 in ./lib/python3.8/site-packages (from tensorflow) (2.1.0)\n",
      "Requirement already satisfied: astunparse>=1.6.0 in ./lib/python3.8/site-packages (from tensorflow) (1.6.3)\n",
      "Requirement already satisfied: flatbuffers>=23.1.21 in ./lib/python3.8/site-packages (from tensorflow) (24.3.25)\n",
      "Requirement already satisfied: gast<=0.4.0,>=0.2.1 in ./lib/python3.8/site-packages (from tensorflow) (0.4.0)\n",
      "Requirement already satisfied: google-pasta>=0.1.1 in ./lib/python3.8/site-packages (from tensorflow) (0.2.0)\n",
      "Requirement already satisfied: grpcio<2.0,>=1.24.3 in ./lib/python3.8/site-packages (from tensorflow) (1.62.1)\n",
      "Requirement already satisfied: h5py>=2.9.0 in ./lib/python3.8/site-packages (from tensorflow) (3.11.0)\n",
      "Requirement already satisfied: keras<2.14,>=2.13.1 in ./lib/python3.8/site-packages (from tensorflow) (2.13.1)\n",
      "Requirement already satisfied: libclang>=13.0.0 in ./lib/python3.8/site-packages (from tensorflow) (18.1.1)\n",
      "Requirement already satisfied: numpy<=1.24.3,>=1.22 in ./lib/python3.8/site-packages (from tensorflow) (1.24.3)\n",
      "Requirement already satisfied: opt-einsum>=2.3.2 in ./lib/python3.8/site-packages (from tensorflow) (3.3.0)\n",
      "Requirement already satisfied: packaging in ./lib/python3.8/site-packages (from tensorflow) (24.0)\n",
      "Requirement already satisfied: protobuf!=4.21.0,!=4.21.1,!=4.21.2,!=4.21.3,!=4.21.4,!=4.21.5,<5.0.0dev,>=3.20.3 in ./lib/python3.8/site-packages (from tensorflow) (4.25.3)\n",
      "Requirement already satisfied: setuptools in ./lib/python3.8/site-packages (from tensorflow) (69.0.3)\n",
      "Requirement already satisfied: six>=1.12.0 in ./lib/python3.8/site-packages (from tensorflow) (1.16.0)\n",
      "Requirement already satisfied: tensorboard<2.14,>=2.13 in ./lib/python3.8/site-packages (from tensorflow) (2.13.0)\n",
      "Requirement already satisfied: tensorflow-estimator<2.14,>=2.13.0 in ./lib/python3.8/site-packages (from tensorflow) (2.13.0)\n",
      "Requirement already satisfied: termcolor>=1.1.0 in ./lib/python3.8/site-packages (from tensorflow) (2.4.0)\n",
      "Requirement already satisfied: typing-extensions<4.6.0,>=3.6.6 in ./lib/python3.8/site-packages (from tensorflow) (4.5.0)\n",
      "Requirement already satisfied: wrapt>=1.11.0 in ./lib/python3.8/site-packages (from tensorflow) (1.16.0)\n",
      "Requirement already satisfied: tensorflow-io-gcs-filesystem>=0.23.1 in ./lib/python3.8/site-packages (from tensorflow) (0.34.0)\n",
      "Requirement already satisfied: wheel<1.0,>=0.23.0 in ./lib/python3.8/site-packages (from astunparse>=1.6.0->tensorflow) (0.42.0)\n",
      "Requirement already satisfied: google-auth<3,>=1.6.3 in ./lib/python3.8/site-packages (from tensorboard<2.14,>=2.13->tensorflow) (2.29.0)\n",
      "Requirement already satisfied: google-auth-oauthlib<1.1,>=0.5 in ./lib/python3.8/site-packages (from tensorboard<2.14,>=2.13->tensorflow) (1.0.0)\n",
      "Requirement already satisfied: markdown>=2.6.8 in ./lib/python3.8/site-packages (from tensorboard<2.14,>=2.13->tensorflow) (3.6)\n",
      "Requirement already satisfied: requests<3,>=2.21.0 in ./lib/python3.8/site-packages (from tensorboard<2.14,>=2.13->tensorflow) (2.31.0)\n",
      "Requirement already satisfied: tensorboard-data-server<0.8.0,>=0.7.0 in ./lib/python3.8/site-packages (from tensorboard<2.14,>=2.13->tensorflow) (0.7.2)\n",
      "Requirement already satisfied: werkzeug>=1.0.1 in ./lib/python3.8/site-packages (from tensorboard<2.14,>=2.13->tensorflow) (3.0.2)\n",
      "Requirement already satisfied: cachetools<6.0,>=2.0.0 in ./lib/python3.8/site-packages (from google-auth<3,>=1.6.3->tensorboard<2.14,>=2.13->tensorflow) (5.3.3)\n",
      "Requirement already satisfied: pyasn1-modules>=0.2.1 in ./lib/python3.8/site-packages (from google-auth<3,>=1.6.3->tensorboard<2.14,>=2.13->tensorflow) (0.4.0)\n",
      "Requirement already satisfied: rsa<5,>=3.1.4 in ./lib/python3.8/site-packages (from google-auth<3,>=1.6.3->tensorboard<2.14,>=2.13->tensorflow) (4.9)\n",
      "Requirement already satisfied: requests-oauthlib>=0.7.0 in ./lib/python3.8/site-packages (from google-auth-oauthlib<1.1,>=0.5->tensorboard<2.14,>=2.13->tensorflow) (2.0.0)\n",
      "Requirement already satisfied: importlib-metadata>=4.4 in ./lib/python3.8/site-packages (from markdown>=2.6.8->tensorboard<2.14,>=2.13->tensorflow) (7.1.0)\n",
      "Requirement already satisfied: charset-normalizer<4,>=2 in ./lib/python3.8/site-packages (from requests<3,>=2.21.0->tensorboard<2.14,>=2.13->tensorflow) (3.3.2)\n",
      "Requirement already satisfied: idna<4,>=2.5 in ./lib/python3.8/site-packages (from requests<3,>=2.21.0->tensorboard<2.14,>=2.13->tensorflow) (3.7)\n",
      "Requirement already satisfied: urllib3<3,>=1.21.1 in ./lib/python3.8/site-packages (from requests<3,>=2.21.0->tensorboard<2.14,>=2.13->tensorflow) (2.2.1)\n",
      "Requirement already satisfied: certifi>=2017.4.17 in ./lib/python3.8/site-packages (from requests<3,>=2.21.0->tensorboard<2.14,>=2.13->tensorflow) (2024.2.2)\n",
      "Requirement already satisfied: MarkupSafe>=2.1.1 in ./lib/python3.8/site-packages (from werkzeug>=1.0.1->tensorboard<2.14,>=2.13->tensorflow) (2.1.5)\n",
      "Requirement already satisfied: zipp>=0.5 in ./lib/python3.8/site-packages (from importlib-metadata>=4.4->markdown>=2.6.8->tensorboard<2.14,>=2.13->tensorflow) (3.18.1)\n",
      "Requirement already satisfied: pyasn1<0.7.0,>=0.4.6 in ./lib/python3.8/site-packages (from pyasn1-modules>=0.2.1->google-auth<3,>=1.6.3->tensorboard<2.14,>=2.13->tensorflow) (0.6.0)\n",
      "Requirement already satisfied: oauthlib>=3.0.0 in ./lib/python3.8/site-packages (from requests-oauthlib>=0.7.0->google-auth-oauthlib<1.1,>=0.5->tensorboard<2.14,>=2.13->tensorflow) (3.2.2)\n",
      "Requirement already satisfied: tensorflow_hub in ./lib/python3.8/site-packages (0.16.1)\n",
      "Requirement already satisfied: numpy>=1.12.0 in ./lib/python3.8/site-packages (from tensorflow_hub) (1.24.3)\n",
      "Requirement already satisfied: protobuf>=3.19.6 in ./lib/python3.8/site-packages (from tensorflow_hub) (4.25.3)\n",
      "Requirement already satisfied: tf-keras>=2.14.1 in ./lib/python3.8/site-packages (from tensorflow_hub) (2.15.0)\n",
      "/bin/bash: Install: command not found\n",
      "Requirement already satisfied: matplotlib in ./lib/python3.8/site-packages (3.7.5)\n",
      "Requirement already satisfied: contourpy>=1.0.1 in ./lib/python3.8/site-packages (from matplotlib) (1.1.1)\n",
      "Requirement already satisfied: cycler>=0.10 in ./lib/python3.8/site-packages (from matplotlib) (0.12.1)\n",
      "Requirement already satisfied: fonttools>=4.22.0 in ./lib/python3.8/site-packages (from matplotlib) (4.51.0)\n",
      "Requirement already satisfied: kiwisolver>=1.0.1 in ./lib/python3.8/site-packages (from matplotlib) (1.4.5)\n",
      "Requirement already satisfied: numpy<2,>=1.20 in ./lib/python3.8/site-packages (from matplotlib) (1.24.3)\n",
      "Requirement already satisfied: packaging>=20.0 in ./lib/python3.8/site-packages (from matplotlib) (24.0)\n",
      "Requirement already satisfied: pillow>=6.2.0 in ./lib/python3.8/site-packages (from matplotlib) (10.3.0)\n",
      "Requirement already satisfied: pyparsing>=2.3.1 in ./lib/python3.8/site-packages (from matplotlib) (3.1.2)\n",
      "Requirement already satisfied: python-dateutil>=2.7 in ./lib/python3.8/site-packages (from matplotlib) (2.9.0.post0)\n",
      "Requirement already satisfied: importlib-resources>=3.2.0 in ./lib/python3.8/site-packages (from matplotlib) (6.4.0)\n",
      "Requirement already satisfied: zipp>=3.1.0 in ./lib/python3.8/site-packages (from importlib-resources>=3.2.0->matplotlib) (3.18.1)\n",
      "Requirement already satisfied: six>=1.5 in ./lib/python3.8/site-packages (from python-dateutil>=2.7->matplotlib) (1.16.0)\n",
      "Requirement already satisfied: pandas in ./lib/python3.8/site-packages (2.0.3)\n",
      "Requirement already satisfied: python-dateutil>=2.8.2 in ./lib/python3.8/site-packages (from pandas) (2.9.0.post0)\n",
      "Requirement already satisfied: pytz>=2020.1 in ./lib/python3.8/site-packages (from pandas) (2024.1)\n",
      "Requirement already satisfied: tzdata>=2022.1 in ./lib/python3.8/site-packages (from pandas) (2024.1)\n",
      "Requirement already satisfied: numpy>=1.20.3 in ./lib/python3.8/site-packages (from pandas) (1.24.3)\n",
      "Requirement already satisfied: six>=1.5 in ./lib/python3.8/site-packages (from python-dateutil>=2.8.2->pandas) (1.16.0)\n",
      "Requirement already satisfied: nltk in ./lib/python3.8/site-packages (3.8.1)\n",
      "Requirement already satisfied: click in ./lib/python3.8/site-packages (from nltk) (8.1.7)\n",
      "Requirement already satisfied: joblib in ./lib/python3.8/site-packages (from nltk) (1.4.0)\n",
      "Requirement already satisfied: regex>=2021.8.3 in ./lib/python3.8/site-packages (from nltk) (2024.4.16)\n",
      "Requirement already satisfied: tqdm in ./lib/python3.8/site-packages (from nltk) (4.66.2)\n",
      "Requirement already satisfied: seaborn in ./lib/python3.8/site-packages (0.13.2)\n",
      "Requirement already satisfied: numpy!=1.24.0,>=1.20 in ./lib/python3.8/site-packages (from seaborn) (1.24.3)\n",
      "Requirement already satisfied: pandas>=1.2 in ./lib/python3.8/site-packages (from seaborn) (2.0.3)\n",
      "Requirement already satisfied: matplotlib!=3.6.1,>=3.4 in ./lib/python3.8/site-packages (from seaborn) (3.7.5)\n",
      "Requirement already satisfied: contourpy>=1.0.1 in ./lib/python3.8/site-packages (from matplotlib!=3.6.1,>=3.4->seaborn) (1.1.1)\n",
      "Requirement already satisfied: cycler>=0.10 in ./lib/python3.8/site-packages (from matplotlib!=3.6.1,>=3.4->seaborn) (0.12.1)\n",
      "Requirement already satisfied: fonttools>=4.22.0 in ./lib/python3.8/site-packages (from matplotlib!=3.6.1,>=3.4->seaborn) (4.51.0)\n",
      "Requirement already satisfied: kiwisolver>=1.0.1 in ./lib/python3.8/site-packages (from matplotlib!=3.6.1,>=3.4->seaborn) (1.4.5)\n",
      "Requirement already satisfied: packaging>=20.0 in ./lib/python3.8/site-packages (from matplotlib!=3.6.1,>=3.4->seaborn) (24.0)\n",
      "Requirement already satisfied: pillow>=6.2.0 in ./lib/python3.8/site-packages (from matplotlib!=3.6.1,>=3.4->seaborn) (10.3.0)\n",
      "Requirement already satisfied: pyparsing>=2.3.1 in ./lib/python3.8/site-packages (from matplotlib!=3.6.1,>=3.4->seaborn) (3.1.2)\n",
      "Requirement already satisfied: python-dateutil>=2.7 in ./lib/python3.8/site-packages (from matplotlib!=3.6.1,>=3.4->seaborn) (2.9.0.post0)\n",
      "Requirement already satisfied: importlib-resources>=3.2.0 in ./lib/python3.8/site-packages (from matplotlib!=3.6.1,>=3.4->seaborn) (6.4.0)\n",
      "Requirement already satisfied: pytz>=2020.1 in ./lib/python3.8/site-packages (from pandas>=1.2->seaborn) (2024.1)\n",
      "Requirement already satisfied: tzdata>=2022.1 in ./lib/python3.8/site-packages (from pandas>=1.2->seaborn) (2024.1)\n",
      "Requirement already satisfied: zipp>=3.1.0 in ./lib/python3.8/site-packages (from importlib-resources>=3.2.0->matplotlib!=3.6.1,>=3.4->seaborn) (3.18.1)\n",
      "Requirement already satisfied: six>=1.5 in ./lib/python3.8/site-packages (from python-dateutil>=2.7->matplotlib!=3.6.1,>=3.4->seaborn) (1.16.0)\n",
      "Requirement already satisfied: scikit-learn in ./lib/python3.8/site-packages (1.3.2)\n",
      "Requirement already satisfied: numpy<2.0,>=1.17.3 in ./lib/python3.8/site-packages (from scikit-learn) (1.24.3)\n",
      "Requirement already satisfied: scipy>=1.5.0 in ./lib/python3.8/site-packages (from scikit-learn) (1.10.1)\n",
      "Requirement already satisfied: joblib>=1.1.1 in ./lib/python3.8/site-packages (from scikit-learn) (1.4.0)\n",
      "Requirement already satisfied: threadpoolctl>=2.0.0 in ./lib/python3.8/site-packages (from scikit-learn) (3.4.0)\n"
     ]
    }
   ],
   "source": [
    "!pip install numpy\n",
    "!pip install tensorflow\n",
    "!pip install tensorflow_hub\n",
    "!Install matplotlib\n",
    "!pip install matplotlib\n",
    "!pip install pandas\n",
    "!pip install nltk\n",
    "!pip install seaborn\n",
    "!pip install -U scikit-learn"
   ]
  },
  {
   "cell_type": "code",
   "execution_count": 6,
   "metadata": {
    "colab": {
     "base_uri": "https://localhost:8080/"
    },
    "id": "khdqLwhM7gRO",
    "outputId": "64c8e400-48a1-4519-bafa-f4ba40b707fc"
   },
   "outputs": [
    {
     "name": "stderr",
     "output_type": "stream",
     "text": [
      "[nltk_data] Downloading package stopwords to /home/sdp629/nltk_data...\n",
      "[nltk_data]   Package stopwords is already up-to-date!\n",
      "[nltk_data] Downloading package punkt to /home/sdp629/nltk_data...\n",
      "[nltk_data]   Package punkt is already up-to-date!\n",
      "[nltk_data] Downloading package wordnet to /home/sdp629/nltk_data...\n",
      "[nltk_data]   Package wordnet is already up-to-date!\n",
      "[nltk_data] Downloading package omw-1.4 to /home/sdp629/nltk_data...\n",
      "[nltk_data]   Package omw-1.4 is already up-to-date!\n",
      "[nltk_data] Downloading package vader_lexicon to\n",
      "[nltk_data]     /home/sdp629/nltk_data...\n",
      "[nltk_data]   Package vader_lexicon is already up-to-date!\n",
      "[nltk_data] Downloading collection 'popular'\n",
      "[nltk_data]    | \n",
      "[nltk_data]    | Downloading package cmudict to\n",
      "[nltk_data]    |     /home/sdp629/nltk_data...\n",
      "[nltk_data]    |   Package cmudict is already up-to-date!\n",
      "[nltk_data]    | Downloading package gazetteers to\n",
      "[nltk_data]    |     /home/sdp629/nltk_data...\n",
      "[nltk_data]    |   Package gazetteers is already up-to-date!\n",
      "[nltk_data]    | Downloading package genesis to\n",
      "[nltk_data]    |     /home/sdp629/nltk_data...\n",
      "[nltk_data]    |   Package genesis is already up-to-date!\n",
      "[nltk_data]    | Downloading package gutenberg to\n",
      "[nltk_data]    |     /home/sdp629/nltk_data...\n",
      "[nltk_data]    |   Package gutenberg is already up-to-date!\n",
      "[nltk_data]    | Downloading package inaugural to\n",
      "[nltk_data]    |     /home/sdp629/nltk_data...\n",
      "[nltk_data]    |   Package inaugural is already up-to-date!\n",
      "[nltk_data]    | Downloading package movie_reviews to\n",
      "[nltk_data]    |     /home/sdp629/nltk_data...\n",
      "[nltk_data]    |   Package movie_reviews is already up-to-date!\n",
      "[nltk_data]    | Downloading package names to\n",
      "[nltk_data]    |     /home/sdp629/nltk_data...\n",
      "[nltk_data]    |   Package names is already up-to-date!\n",
      "[nltk_data]    | Downloading package shakespeare to\n",
      "[nltk_data]    |     /home/sdp629/nltk_data...\n",
      "[nltk_data]    |   Package shakespeare is already up-to-date!\n",
      "[nltk_data]    | Downloading package stopwords to\n",
      "[nltk_data]    |     /home/sdp629/nltk_data...\n",
      "[nltk_data]    |   Package stopwords is already up-to-date!\n",
      "[nltk_data]    | Downloading package treebank to\n",
      "[nltk_data]    |     /home/sdp629/nltk_data...\n",
      "[nltk_data]    |   Package treebank is already up-to-date!\n",
      "[nltk_data]    | Downloading package twitter_samples to\n",
      "[nltk_data]    |     /home/sdp629/nltk_data...\n",
      "[nltk_data]    |   Package twitter_samples is already up-to-date!\n",
      "[nltk_data]    | Downloading package omw to /home/sdp629/nltk_data...\n",
      "[nltk_data]    |   Package omw is already up-to-date!\n",
      "[nltk_data]    | Downloading package omw-1.4 to\n",
      "[nltk_data]    |     /home/sdp629/nltk_data...\n",
      "[nltk_data]    |   Package omw-1.4 is already up-to-date!\n",
      "[nltk_data]    | Downloading package wordnet to\n",
      "[nltk_data]    |     /home/sdp629/nltk_data...\n",
      "[nltk_data]    |   Package wordnet is already up-to-date!\n",
      "[nltk_data]    | Downloading package wordnet2021 to\n",
      "[nltk_data]    |     /home/sdp629/nltk_data...\n",
      "[nltk_data]    |   Package wordnet2021 is already up-to-date!\n",
      "[nltk_data]    | Downloading package wordnet31 to\n",
      "[nltk_data]    |     /home/sdp629/nltk_data...\n",
      "[nltk_data]    |   Package wordnet31 is already up-to-date!\n",
      "[nltk_data]    | Downloading package wordnet_ic to\n",
      "[nltk_data]    |     /home/sdp629/nltk_data...\n",
      "[nltk_data]    |   Package wordnet_ic is already up-to-date!\n",
      "[nltk_data]    | Downloading package words to\n",
      "[nltk_data]    |     /home/sdp629/nltk_data...\n",
      "[nltk_data]    |   Package words is already up-to-date!\n",
      "[nltk_data]    | Downloading package maxent_ne_chunker to\n",
      "[nltk_data]    |     /home/sdp629/nltk_data...\n",
      "[nltk_data]    |   Package maxent_ne_chunker is already up-to-date!\n",
      "[nltk_data]    | Downloading package punkt to\n",
      "[nltk_data]    |     /home/sdp629/nltk_data...\n",
      "[nltk_data]    |   Package punkt is already up-to-date!\n",
      "[nltk_data]    | Downloading package snowball_data to\n",
      "[nltk_data]    |     /home/sdp629/nltk_data...\n",
      "[nltk_data]    |   Package snowball_data is already up-to-date!\n",
      "[nltk_data]    | Downloading package averaged_perceptron_tagger to\n",
      "[nltk_data]    |     /home/sdp629/nltk_data...\n",
      "[nltk_data]    |   Package averaged_perceptron_tagger is already up-\n",
      "[nltk_data]    |       to-date!\n",
      "[nltk_data]    | \n",
      "[nltk_data]  Done downloading collection popular\n"
     ]
    },
    {
     "name": "stdout",
     "output_type": "stream",
     "text": [
      "Version:  2.13.1\n",
      "Eager mode:  True\n",
      "Hub version:  0.16.1\n",
      "GPU is NOT AVAILABLE\n"
     ]
    },
    {
     "name": "stderr",
     "output_type": "stream",
     "text": [
      "2024-04-18 17:40:49.176036: I tensorflow/compiler/xla/stream_executor/cuda/cuda_gpu_executor.cc:995] successful NUMA node read from SysFS had negative value (-1), but there must be at least one NUMA node, so returning NUMA node zero. See more at https://github.com/torvalds/linux/blob/v6.0/Documentation/ABI/testing/sysfs-bus-pci#L344-L355\n",
      "2024-04-18 17:40:49.185128: W tensorflow/core/common_runtime/gpu/gpu_device.cc:1960] Cannot dlopen some GPU libraries. Please make sure the missing libraries mentioned above are installed properly if you would like to use GPU. Follow the guide at https://www.tensorflow.org/install/gpu for how to download and setup the required libraries for your platform.\n",
      "Skipping registering GPU devices...\n"
     ]
    }
   ],
   "source": [
    "#globals().clear()  # clear all variables\n",
    "\n",
    "import numpy as np\n",
    "import re\n",
    "import tensorflow as tf\n",
    "import tensorflow_hub as hub\n",
    "import matplotlib.pyplot as plt\n",
    "import pandas as pd\n",
    "import nltk\n",
    "nltk.download(['stopwords',\n",
    "               'punkt',\n",
    "               'wordnet',\n",
    "               'omw-1.4',\n",
    "               'vader_lexicon',\n",
    "               'popular'])\n",
    "\n",
    "from sklearn.metrics import confusion_matrix\n",
    "from sklearn.metrics import classification_report\n",
    "from sklearn import metrics\n",
    "\n",
    "print(\"Version: \", tf.__version__)\n",
    "print(\"Eager mode: \", tf.executing_eagerly())\n",
    "print(\"Hub version: \", hub.__version__)\n",
    "print(\"GPU is\", \"available\" if tf.config.list_physical_devices('GPU') else \"NOT AVAILABLE\")\n",
    "\n"
   ]
  },
  {
   "cell_type": "code",
   "execution_count": 8,
   "metadata": {
    "id": "Fi0xEzL3iqFa"
   },
   "outputs": [],
   "source": [
    "data = pd.read_csv(\"Chatgpt.csv\")"
   ]
  },
  {
   "cell_type": "code",
   "execution_count": 9,
   "metadata": {
    "colab": {
     "base_uri": "https://localhost:8080/",
     "height": 424
    },
    "id": "_u0mwGhrirVW",
    "outputId": "3e9ea938-0262-435d-97c2-221f3d2b9204"
   },
   "outputs": [
    {
     "data": {
      "text/html": [
       "<div>\n",
       "<style scoped>\n",
       "    .dataframe tbody tr th:only-of-type {\n",
       "        vertical-align: middle;\n",
       "    }\n",
       "\n",
       "    .dataframe tbody tr th {\n",
       "        vertical-align: top;\n",
       "    }\n",
       "\n",
       "    .dataframe thead th {\n",
       "        text-align: right;\n",
       "    }\n",
       "</style>\n",
       "<table border=\"1\" class=\"dataframe\">\n",
       "  <thead>\n",
       "    <tr style=\"text-align: right;\">\n",
       "      <th></th>\n",
       "      <th>Unnamed: 0</th>\n",
       "      <th>tweets</th>\n",
       "      <th>labels</th>\n",
       "    </tr>\n",
       "  </thead>\n",
       "  <tbody>\n",
       "    <tr>\n",
       "      <th>0</th>\n",
       "      <td>1</td>\n",
       "      <td>As of 2 minutes ago, @OpenAI released their ne...</td>\n",
       "      <td>bad</td>\n",
       "    </tr>\n",
       "    <tr>\n",
       "      <th>1</th>\n",
       "      <td>2</td>\n",
       "      <td>Try talking with ChatGPT, our new AI system wh...</td>\n",
       "      <td>good</td>\n",
       "    </tr>\n",
       "    <tr>\n",
       "      <th>2</th>\n",
       "      <td>3</td>\n",
       "      <td>GOD DAMN IT @OpenAI STOP ANNOUNCING THINGS I A...</td>\n",
       "      <td>bad</td>\n",
       "    </tr>\n",
       "    <tr>\n",
       "      <th>3</th>\n",
       "      <td>4</td>\n",
       "      <td>THRILLED to share that ChatGPT, our new model ...</td>\n",
       "      <td>good</td>\n",
       "    </tr>\n",
       "    <tr>\n",
       "      <th>4</th>\n",
       "      <td>5</td>\n",
       "      <td>#ai Models are set to become the search engine...</td>\n",
       "      <td>bad</td>\n",
       "    </tr>\n",
       "    <tr>\n",
       "      <th>...</th>\n",
       "      <td>...</td>\n",
       "      <td>...</td>\n",
       "      <td>...</td>\n",
       "    </tr>\n",
       "    <tr>\n",
       "      <th>3995</th>\n",
       "      <td>3996</td>\n",
       "      <td>\"Just had a great conversation with #ChatGPT f...</td>\n",
       "      <td>good</td>\n",
       "    </tr>\n",
       "    <tr>\n",
       "      <th>3996</th>\n",
       "      <td>3997</td>\n",
       "      <td>Personal DS &amp;amp; Algos tutor ðŸ˜Š... Going to...</td>\n",
       "      <td>good</td>\n",
       "    </tr>\n",
       "    <tr>\n",
       "      <th>3997</th>\n",
       "      <td>3998</td>\n",
       "      <td>Asked #ChatGPT to write a fan fiction story in...</td>\n",
       "      <td>good</td>\n",
       "    </tr>\n",
       "    <tr>\n",
       "      <th>3998</th>\n",
       "      <td>3999</td>\n",
       "      <td>ChatGPT is very powerful, but you need enough ...</td>\n",
       "      <td>good</td>\n",
       "    </tr>\n",
       "    <tr>\n",
       "      <th>3999</th>\n",
       "      <td>4000</td>\n",
       "      <td>#ChatGPT \\n\\nAlaska was purchased for 2 cents ...</td>\n",
       "      <td>good</td>\n",
       "    </tr>\n",
       "  </tbody>\n",
       "</table>\n",
       "<p>4000 rows × 3 columns</p>\n",
       "</div>"
      ],
      "text/plain": [
       "      Unnamed: 0                                             tweets labels\n",
       "0              1  As of 2 minutes ago, @OpenAI released their ne...    bad\n",
       "1              2  Try talking with ChatGPT, our new AI system wh...   good\n",
       "2              3  GOD DAMN IT @OpenAI STOP ANNOUNCING THINGS I A...    bad\n",
       "3              4  THRILLED to share that ChatGPT, our new model ...   good\n",
       "4              5  #ai Models are set to become the search engine...    bad\n",
       "...          ...                                                ...    ...\n",
       "3995        3996  \"Just had a great conversation with #ChatGPT f...   good\n",
       "3996        3997  Personal DS &amp; Algos tutor ðŸ˜Š... Going to...   good\n",
       "3997        3998  Asked #ChatGPT to write a fan fiction story in...   good\n",
       "3998        3999  ChatGPT is very powerful, but you need enough ...   good\n",
       "3999        4000  #ChatGPT \\n\\nAlaska was purchased for 2 cents ...   good\n",
       "\n",
       "[4000 rows x 3 columns]"
      ]
     },
     "execution_count": 9,
     "metadata": {},
     "output_type": "execute_result"
    }
   ],
   "source": [
    "data"
   ]
  },
  {
   "cell_type": "code",
   "execution_count": 10,
   "metadata": {
    "colab": {
     "base_uri": "https://localhost:8080/",
     "height": 300
    },
    "id": "c8c-rnlnmTXZ",
    "outputId": "16619e53-45ac-48bc-f43d-a0b5a12b17e1"
   },
   "outputs": [
    {
     "data": {
      "text/html": [
       "<div>\n",
       "<style scoped>\n",
       "    .dataframe tbody tr th:only-of-type {\n",
       "        vertical-align: middle;\n",
       "    }\n",
       "\n",
       "    .dataframe tbody tr th {\n",
       "        vertical-align: top;\n",
       "    }\n",
       "\n",
       "    .dataframe thead th {\n",
       "        text-align: right;\n",
       "    }\n",
       "</style>\n",
       "<table border=\"1\" class=\"dataframe\">\n",
       "  <thead>\n",
       "    <tr style=\"text-align: right;\">\n",
       "      <th></th>\n",
       "      <th>Unnamed: 0</th>\n",
       "    </tr>\n",
       "  </thead>\n",
       "  <tbody>\n",
       "    <tr>\n",
       "      <th>count</th>\n",
       "      <td>4000.000000</td>\n",
       "    </tr>\n",
       "    <tr>\n",
       "      <th>mean</th>\n",
       "      <td>2000.500000</td>\n",
       "    </tr>\n",
       "    <tr>\n",
       "      <th>std</th>\n",
       "      <td>1154.844867</td>\n",
       "    </tr>\n",
       "    <tr>\n",
       "      <th>min</th>\n",
       "      <td>1.000000</td>\n",
       "    </tr>\n",
       "    <tr>\n",
       "      <th>25%</th>\n",
       "      <td>1000.750000</td>\n",
       "    </tr>\n",
       "    <tr>\n",
       "      <th>50%</th>\n",
       "      <td>2000.500000</td>\n",
       "    </tr>\n",
       "    <tr>\n",
       "      <th>75%</th>\n",
       "      <td>3000.250000</td>\n",
       "    </tr>\n",
       "    <tr>\n",
       "      <th>max</th>\n",
       "      <td>4000.000000</td>\n",
       "    </tr>\n",
       "  </tbody>\n",
       "</table>\n",
       "</div>"
      ],
      "text/plain": [
       "        Unnamed: 0\n",
       "count  4000.000000\n",
       "mean   2000.500000\n",
       "std    1154.844867\n",
       "min       1.000000\n",
       "25%    1000.750000\n",
       "50%    2000.500000\n",
       "75%    3000.250000\n",
       "max    4000.000000"
      ]
     },
     "execution_count": 10,
     "metadata": {},
     "output_type": "execute_result"
    }
   ],
   "source": [
    "data.describe()"
   ]
  },
  {
   "cell_type": "code",
   "execution_count": 11,
   "metadata": {
    "colab": {
     "base_uri": "https://localhost:8080/"
    },
    "id": "Mhz8uqGUCs6B",
    "outputId": "51840406-1e67-4457-a788-95327ec48d0e"
   },
   "outputs": [
    {
     "name": "stdout",
     "output_type": "stream",
     "text": [
      "As of 2 minutes ago, @OpenAI released their new ChatGPT. \\n\\nAnd you can use it right now \\n \\nhttps://t.co/kUcnWYhQ1b\\n\\nðŸ¤¯ https://t.co/kCE59Xs0YG https://t.co/cSn5h6h1M1\n",
      "\n",
      "Try talking with ChatGPT, our new AI system which is optimized for dialogue. Your feedback will help us improve it. https://t.co/sHDm57g3Kr\n",
      "\n",
      "GOD DAMN IT @OpenAI STOP ANNOUNCING THINGS I AM TOO BUSY https://t.co/F7Xd511FAf\n",
      "\n",
      "THRILLED to share that ChatGPT, our new model optimized for dialog, is now public, free, and accessible to everyone. https://t.co/dyvtHecYbd https://t.co/DdhzhqhCBX https://t.co/l8qTLure71\n",
      "\n",
      "#ai Models are set to become the search engines of the future, ATM they still struggle with veracityâ€¦ here is #chatgpt by @OpenAI based on #GPT3. #seo\\n\\nhttps://t.co/qqZ1G0fOTy\n",
      "\n",
      "Just launched ChatGPT, our new AI system which is optimized for dialogue: https://t.co/ArX6m0FfLE.\\n\\nTry it out here: https://t.co/YM1gp5bA64\n",
      "\n",
      "Google is done.\\n\\nCompare the quality of these responses (ChatGPT) https://t.co/VGO7usvlIB\n",
      "\n",
      "ChatGPT coming out strong refusing to help me stalk someone but agreeing providing that someone is Waldo. https://t.co/CVIJERbW38\n",
      "\n",
      "ChatGPT vs. riddles https://t.co/YuPYOD0U7o\n",
      "\n",
      "#0penAl just deployed a thing I've been helping build the last couple of months, it's a chatbot based on GPT 3. I'm really excited to share this vl\\nhttps://t.co/zp7HniUxBu\\nhttps://t.co/NISJLWhOMw\n",
      "\n"
     ]
    }
   ],
   "source": [
    "for i in data.tweets.head(10):\n",
    "    print(i)\n",
    "    print()"
   ]
  },
  {
   "cell_type": "code",
   "execution_count": 12,
   "metadata": {
    "id": "d8gl8yWLCs3I"
   },
   "outputs": [],
   "source": [
    "# Remove all the tweet links since they all begin with https:\n",
    "\n",
    "data['tweet_list'] = data['tweets'].str.split('https:')"
   ]
  },
  {
   "cell_type": "code",
   "execution_count": 13,
   "metadata": {
    "colab": {
     "base_uri": "https://localhost:8080/",
     "height": 310
    },
    "id": "alePtzUYCsxM",
    "outputId": "a5164a91-9896-43dd-f0ce-b674e0f42fbd"
   },
   "outputs": [
    {
     "data": {
      "text/html": [
       "<div>\n",
       "<style scoped>\n",
       "    .dataframe tbody tr th:only-of-type {\n",
       "        vertical-align: middle;\n",
       "    }\n",
       "\n",
       "    .dataframe tbody tr th {\n",
       "        vertical-align: top;\n",
       "    }\n",
       "\n",
       "    .dataframe thead th {\n",
       "        text-align: right;\n",
       "    }\n",
       "</style>\n",
       "<table border=\"1\" class=\"dataframe\">\n",
       "  <thead>\n",
       "    <tr style=\"text-align: right;\">\n",
       "      <th></th>\n",
       "      <th>Unnamed: 0</th>\n",
       "      <th>tweets</th>\n",
       "      <th>labels</th>\n",
       "      <th>tweet_list</th>\n",
       "    </tr>\n",
       "  </thead>\n",
       "  <tbody>\n",
       "    <tr>\n",
       "      <th>0</th>\n",
       "      <td>1</td>\n",
       "      <td>As of 2 minutes ago, @OpenAI released their ne...</td>\n",
       "      <td>bad</td>\n",
       "      <td>[As of 2 minutes ago, @OpenAI released their n...</td>\n",
       "    </tr>\n",
       "    <tr>\n",
       "      <th>1</th>\n",
       "      <td>2</td>\n",
       "      <td>Try talking with ChatGPT, our new AI system wh...</td>\n",
       "      <td>good</td>\n",
       "      <td>[Try talking with ChatGPT, our new AI system w...</td>\n",
       "    </tr>\n",
       "    <tr>\n",
       "      <th>2</th>\n",
       "      <td>3</td>\n",
       "      <td>GOD DAMN IT @OpenAI STOP ANNOUNCING THINGS I A...</td>\n",
       "      <td>bad</td>\n",
       "      <td>[GOD DAMN IT @OpenAI STOP ANNOUNCING THINGS I ...</td>\n",
       "    </tr>\n",
       "    <tr>\n",
       "      <th>3</th>\n",
       "      <td>4</td>\n",
       "      <td>THRILLED to share that ChatGPT, our new model ...</td>\n",
       "      <td>good</td>\n",
       "      <td>[THRILLED to share that ChatGPT, our new model...</td>\n",
       "    </tr>\n",
       "    <tr>\n",
       "      <th>4</th>\n",
       "      <td>5</td>\n",
       "      <td>#ai Models are set to become the search engine...</td>\n",
       "      <td>bad</td>\n",
       "      <td>[#ai Models are set to become the search engin...</td>\n",
       "    </tr>\n",
       "  </tbody>\n",
       "</table>\n",
       "</div>"
      ],
      "text/plain": [
       "   Unnamed: 0                                             tweets labels  \\\n",
       "0           1  As of 2 minutes ago, @OpenAI released their ne...    bad   \n",
       "1           2  Try talking with ChatGPT, our new AI system wh...   good   \n",
       "2           3  GOD DAMN IT @OpenAI STOP ANNOUNCING THINGS I A...    bad   \n",
       "3           4  THRILLED to share that ChatGPT, our new model ...   good   \n",
       "4           5  #ai Models are set to become the search engine...    bad   \n",
       "\n",
       "                                          tweet_list  \n",
       "0  [As of 2 minutes ago, @OpenAI released their n...  \n",
       "1  [Try talking with ChatGPT, our new AI system w...  \n",
       "2  [GOD DAMN IT @OpenAI STOP ANNOUNCING THINGS I ...  \n",
       "3  [THRILLED to share that ChatGPT, our new model...  \n",
       "4  [#ai Models are set to become the search engin...  "
      ]
     },
     "execution_count": 13,
     "metadata": {},
     "output_type": "execute_result"
    }
   ],
   "source": [
    "data.head()"
   ]
  },
  {
   "cell_type": "code",
   "execution_count": 14,
   "metadata": {
    "id": "xJWkSRkpCsui"
   },
   "outputs": [],
   "source": [
    "# Select the text part of the list\n",
    "\n",
    "text = [i[0] for i in data.tweet_list]"
   ]
  },
  {
   "cell_type": "code",
   "execution_count": 15,
   "metadata": {
    "colab": {
     "base_uri": "https://localhost:8080/",
     "height": 206
    },
    "id": "JV2ESm2MCsph",
    "outputId": "53dbcf4c-ff68-47ae-fb09-2c01313d92f1"
   },
   "outputs": [
    {
     "data": {
      "text/html": [
       "<div>\n",
       "<style scoped>\n",
       "    .dataframe tbody tr th:only-of-type {\n",
       "        vertical-align: middle;\n",
       "    }\n",
       "\n",
       "    .dataframe tbody tr th {\n",
       "        vertical-align: top;\n",
       "    }\n",
       "\n",
       "    .dataframe thead th {\n",
       "        text-align: right;\n",
       "    }\n",
       "</style>\n",
       "<table border=\"1\" class=\"dataframe\">\n",
       "  <thead>\n",
       "    <tr style=\"text-align: right;\">\n",
       "      <th></th>\n",
       "      <th>text</th>\n",
       "      <th>labels</th>\n",
       "    </tr>\n",
       "  </thead>\n",
       "  <tbody>\n",
       "    <tr>\n",
       "      <th>0</th>\n",
       "      <td>As of 2 minutes ago, @OpenAI released their ne...</td>\n",
       "      <td>bad</td>\n",
       "    </tr>\n",
       "    <tr>\n",
       "      <th>1</th>\n",
       "      <td>Try talking with ChatGPT, our new AI system wh...</td>\n",
       "      <td>good</td>\n",
       "    </tr>\n",
       "    <tr>\n",
       "      <th>2</th>\n",
       "      <td>GOD DAMN IT @OpenAI STOP ANNOUNCING THINGS I A...</td>\n",
       "      <td>bad</td>\n",
       "    </tr>\n",
       "    <tr>\n",
       "      <th>3</th>\n",
       "      <td>THRILLED to share that ChatGPT, our new model ...</td>\n",
       "      <td>good</td>\n",
       "    </tr>\n",
       "    <tr>\n",
       "      <th>4</th>\n",
       "      <td>#ai Models are set to become the search engine...</td>\n",
       "      <td>bad</td>\n",
       "    </tr>\n",
       "  </tbody>\n",
       "</table>\n",
       "</div>"
      ],
      "text/plain": [
       "                                                text labels\n",
       "0  As of 2 minutes ago, @OpenAI released their ne...    bad\n",
       "1  Try talking with ChatGPT, our new AI system wh...   good\n",
       "2  GOD DAMN IT @OpenAI STOP ANNOUNCING THINGS I A...    bad\n",
       "3  THRILLED to share that ChatGPT, our new model ...   good\n",
       "4  #ai Models are set to become the search engine...    bad"
      ]
     },
     "execution_count": 15,
     "metadata": {},
     "output_type": "execute_result"
    }
   ],
   "source": [
    "data['text'] = text\n",
    "data = data[['text', 'labels']]\n",
    "data.head()\n"
   ]
  },
  {
   "cell_type": "code",
   "execution_count": 16,
   "metadata": {
    "colab": {
     "base_uri": "https://localhost:8080/"
    },
    "id": "rupn1cvDDPCf",
    "outputId": "d6308bbd-ef95-4095-de5c-67b40a74f4de"
   },
   "outputs": [
    {
     "name": "stdout",
     "output_type": "stream",
     "text": [
      "As of 2 minutes ago, @OpenAI released their new ChatGPT. \\n\\nAnd you can use it right now \\n \\n\n",
      "\n",
      "Try talking with ChatGPT, our new AI system which is optimized for dialogue. Your feedback will help us improve it. \n",
      "\n",
      "GOD DAMN IT @OpenAI STOP ANNOUNCING THINGS I AM TOO BUSY \n",
      "\n",
      "THRILLED to share that ChatGPT, our new model optimized for dialog, is now public, free, and accessible to everyone. \n",
      "\n",
      "#ai Models are set to become the search engines of the future, ATM they still struggle with veracityâ€¦ here is #chatgpt by @OpenAI based on #GPT3. #seo\\n\\n\n",
      "\n",
      "Just launched ChatGPT, our new AI system which is optimized for dialogue: \n",
      "\n",
      "Google is done.\\n\\nCompare the quality of these responses (ChatGPT) \n",
      "\n",
      "ChatGPT coming out strong refusing to help me stalk someone but agreeing providing that someone is Waldo. \n",
      "\n",
      "ChatGPT vs. riddles \n",
      "\n",
      "#0penAl just deployed a thing I've been helping build the last couple of months, it's a chatbot based on GPT 3. I'm really excited to share this vl\\n\n",
      "\n"
     ]
    }
   ],
   "source": [
    "for i in data.text.head(10):\n",
    "    print(i)\n",
    "    print()"
   ]
  },
  {
   "cell_type": "code",
   "execution_count": 17,
   "metadata": {
    "colab": {
     "base_uri": "https://localhost:8080/"
    },
    "id": "9Fo9LLG0DXKS",
    "outputId": "e1df8fc3-65b7-42d1-fc42-a34fdfa8ab3f"
   },
   "outputs": [
    {
     "name": "stderr",
     "output_type": "stream",
     "text": [
      "/tmp/ipykernel_15316/2505709679.py:1: SettingWithCopyWarning: \n",
      "A value is trying to be set on a copy of a slice from a DataFrame.\n",
      "Try using .loc[row_indexer,col_indexer] = value instead\n",
      "\n",
      "See the caveats in the documentation: https://pandas.pydata.org/pandas-docs/stable/user_guide/indexing.html#returning-a-view-versus-a-copy\n",
      "  data['text'] = data['text'].astype(str)\n"
     ]
    }
   ],
   "source": [
    "data['text'] = data['text'].astype(str)"
   ]
  },
  {
   "cell_type": "code",
   "execution_count": 18,
   "metadata": {
    "colab": {
     "base_uri": "https://localhost:8080/"
    },
    "id": "n2fniltXDXII",
    "outputId": "37164a40-a2a9-475e-d9b2-c6722e048a73"
   },
   "outputs": [
    {
     "name": "stdout",
     "output_type": "stream",
     "text": [
      "Null values in 'text' column: 0\n",
      "Non-string values in 'text' column: Series([], Name: text, dtype: object)\n"
     ]
    },
    {
     "name": "stderr",
     "output_type": "stream",
     "text": [
      "/tmp/ipykernel_15316/846306833.py:2: SettingWithCopyWarning: \n",
      "A value is trying to be set on a copy of a slice from a DataFrame.\n",
      "Try using .loc[row_indexer,col_indexer] = value instead\n",
      "\n",
      "See the caveats in the documentation: https://pandas.pydata.org/pandas-docs/stable/user_guide/indexing.html#returning-a-view-versus-a-copy\n",
      "  data['text'] = data['text'].apply(lambda x: str(x))\n"
     ]
    }
   ],
   "source": [
    "# Ensure 'text' column is of string type\n",
    "data['text'] = data['text'].apply(lambda x: str(x))\n",
    "\n",
    "# Check for any null values in 'text' column\n",
    "print(\"Null values in 'text' column:\", data['text'].isnull().sum())\n",
    "\n",
    "# Check for non-string values in 'text' column\n",
    "non_string_values = data['text'][data['text'].apply(lambda x: type(x) != str)]\n",
    "print(\"Non-string values in 'text' column:\", non_string_values)"
   ]
  },
  {
   "cell_type": "markdown",
   "metadata": {
    "id": "X7OOlHuiDtiX"
   },
   "source": [
    "TEXT PREPROCESSING"
   ]
  },
  {
   "cell_type": "code",
   "execution_count": 19,
   "metadata": {
    "id": "dgihDQIDDXGK"
   },
   "outputs": [],
   "source": [
    "import string\n",
    "from nltk.tokenize import word_tokenize"
   ]
  },
  {
   "cell_type": "code",
   "execution_count": 20,
   "metadata": {
    "id": "cQmJjqK8Ds4a"
   },
   "outputs": [],
   "source": [
    "# Layer of text preprocessing\n",
    "def preprocess_text(text):\n",
    "    # Convert to lowercase\n",
    "    text = text.lower()\n",
    "\n",
    "    # Remove '\\n' from words\n",
    "    text = text.replace('\\n', '')\n",
    "\n",
    "    # Remove punctuation\n",
    "    text = text.translate(str.maketrans(\"\", \"\", string.punctuation))\n",
    "\n",
    "    # Remove non-alphanumeric characters\n",
    "    #text = re.sub(r'[^a-zA-Z\\s]', '', text)\n",
    "\n",
    "    # Remove mentions, and hashtags\n",
    "    text = re.sub(r'@\\w+|#\\w+', '', text)\n",
    "\n",
    "    # Remove emojis and other non-ASCII characters\n",
    "    text = ''.join(char for char in text if char.isascii())\n",
    "\n",
    "    # Remove mentions and hashtags\n",
    "    text = re.sub(r'@\\w+|#\\w+', '', text)\n",
    "\n",
    "    # Tokenization using simple splitting\n",
    "    tokens = text.split()\n",
    "\n",
    "    # Tokenization using NLTK\n",
    "    tokens = word_tokenize(text)\n",
    "\n",
    "    # Remove stopwords\n",
    "    stopwords = nltk.corpus.stopwords.words('english')\n",
    "\n",
    "    # Join tokens back into text\n",
    "    preprocessed_text = ' '.join(tokens)\n",
    "\n",
    "    return preprocessed_text"
   ]
  },
  {
   "cell_type": "code",
   "execution_count": 21,
   "metadata": {
    "colab": {
     "base_uri": "https://localhost:8080/",
     "height": 333
    },
    "id": "bAWbfpuJDXDc",
    "outputId": "35ea7490-a449-4ad1-fdeb-60247617dbe3"
   },
   "outputs": [
    {
     "name": "stderr",
     "output_type": "stream",
     "text": [
      "/tmp/ipykernel_15316/117680462.py:1: SettingWithCopyWarning: \n",
      "A value is trying to be set on a copy of a slice from a DataFrame.\n",
      "Try using .loc[row_indexer,col_indexer] = value instead\n",
      "\n",
      "See the caveats in the documentation: https://pandas.pydata.org/pandas-docs/stable/user_guide/indexing.html#returning-a-view-versus-a-copy\n",
      "  data['text'] = data['text'].apply(preprocess_text)\n"
     ]
    },
    {
     "data": {
      "text/html": [
       "<div>\n",
       "<style scoped>\n",
       "    .dataframe tbody tr th:only-of-type {\n",
       "        vertical-align: middle;\n",
       "    }\n",
       "\n",
       "    .dataframe tbody tr th {\n",
       "        vertical-align: top;\n",
       "    }\n",
       "\n",
       "    .dataframe thead th {\n",
       "        text-align: right;\n",
       "    }\n",
       "</style>\n",
       "<table border=\"1\" class=\"dataframe\">\n",
       "  <thead>\n",
       "    <tr style=\"text-align: right;\">\n",
       "      <th></th>\n",
       "      <th>text</th>\n",
       "      <th>labels</th>\n",
       "    </tr>\n",
       "  </thead>\n",
       "  <tbody>\n",
       "    <tr>\n",
       "      <th>0</th>\n",
       "      <td>as of 2 minutes ago openai released their new ...</td>\n",
       "      <td>bad</td>\n",
       "    </tr>\n",
       "    <tr>\n",
       "      <th>1</th>\n",
       "      <td>try talking with chatgpt our new ai system whi...</td>\n",
       "      <td>good</td>\n",
       "    </tr>\n",
       "    <tr>\n",
       "      <th>2</th>\n",
       "      <td>god damn it openai stop announcing things i am...</td>\n",
       "      <td>bad</td>\n",
       "    </tr>\n",
       "    <tr>\n",
       "      <th>3</th>\n",
       "      <td>thrilled to share that chatgpt our new model o...</td>\n",
       "      <td>good</td>\n",
       "    </tr>\n",
       "    <tr>\n",
       "      <th>4</th>\n",
       "      <td>ai models are set to become the search engines...</td>\n",
       "      <td>bad</td>\n",
       "    </tr>\n",
       "  </tbody>\n",
       "</table>\n",
       "</div>"
      ],
      "text/plain": [
       "                                                text labels\n",
       "0  as of 2 minutes ago openai released their new ...    bad\n",
       "1  try talking with chatgpt our new ai system whi...   good\n",
       "2  god damn it openai stop announcing things i am...    bad\n",
       "3  thrilled to share that chatgpt our new model o...   good\n",
       "4  ai models are set to become the search engines...    bad"
      ]
     },
     "execution_count": 21,
     "metadata": {},
     "output_type": "execute_result"
    }
   ],
   "source": [
    "data['text'] = data['text'].apply(preprocess_text)\n",
    "data.head()"
   ]
  },
  {
   "cell_type": "code",
   "execution_count": 22,
   "metadata": {
    "colab": {
     "base_uri": "https://localhost:8080/"
    },
    "id": "9c7Q6KFTDW82",
    "outputId": "91665e63-3042-4e0b-d39a-2088c544dfab"
   },
   "outputs": [
    {
     "name": "stdout",
     "output_type": "stream",
     "text": [
      "as of 2 minutes ago openai released their new chatgpt nnand you can use it right now n n\n",
      "\n",
      "try talking with chatgpt our new ai system which is optimized for dialogue your feedback will help us improve it\n",
      "\n",
      "god damn it openai stop announcing things i am too busy\n",
      "\n",
      "thrilled to share that chatgpt our new model optimized for dialog is now public free and accessible to everyone\n",
      "\n",
      "ai models are set to become the search engines of the future atm they still struggle with veracity here is chatgpt by openai based on gpt3 seonn\n",
      "\n",
      "just launched chatgpt our new ai system which is optimized for dialogue\n",
      "\n",
      "google is donenncompare the quality of these responses chatgpt\n",
      "\n",
      "chatgpt coming out strong refusing to help me stalk someone but agreeing providing that someone is waldo\n",
      "\n",
      "chatgpt vs riddles\n",
      "\n",
      "0penal just deployed a thing ive been helping build the last couple of months its a chatbot based on gpt 3 im really excited to share this vln\n",
      "\n"
     ]
    }
   ],
   "source": [
    "for i in data.text.head(10):\n",
    "    print(i)\n",
    "    print()"
   ]
  },
  {
   "cell_type": "code",
   "execution_count": 23,
   "metadata": {
    "id": "J71cM466983w"
   },
   "outputs": [],
   "source": [
    "# set the percentages of training, validation and testing dataset\n",
    "test_percentage = 0.1\n",
    "validation_percentage = 0.1\n",
    "\n",
    "\n",
    "X = data.text.values\n",
    "y = data.labels.values"
   ]
  },
  {
   "cell_type": "code",
   "execution_count": 24,
   "metadata": {
    "colab": {
     "base_uri": "https://localhost:8080/"
    },
    "id": "AKCmdMja7rS3",
    "outputId": "6d1256d8-eaec-47e6-e3b2-cd186fecefa9"
   },
   "outputs": [
    {
     "name": "stdout",
     "output_type": "stream",
     "text": [
      "Training entries: 3600, test entries: 400\n"
     ]
    }
   ],
   "source": [
    " # convert the labels into numbers\n",
    "y[y == 'bad'] = 0\n",
    "y[y == 'good'] = 1\n",
    "y = np.asarray(y).astype('float32')\n",
    "\n",
    "# Partition the data into training and testing\n",
    "test_examples = np.asarray(X[:round(test_percentage * len(X))])\n",
    "train_examples = np.asarray(X[round(test_percentage * len(X)):])\n",
    "\n",
    "test_labels = np.asarray(y[:round(test_percentage * len(X))])\n",
    "train_labels = np.asarray(y[round(test_percentage * len(X)):])\n",
    "\n",
    "print(\"Training entries: {}, test entries: {}\".format(len(train_examples), len(test_examples)))"
   ]
  },
  {
   "cell_type": "code",
   "execution_count": 25,
   "metadata": {
    "colab": {
     "base_uri": "https://localhost:8080/"
    },
    "id": "1zDj3GXWEsoy",
    "outputId": "06ab09a7-bd13-4373-f5e7-42b4ffb44d3e"
   },
   "outputs": [
    {
     "name": "stdout",
     "output_type": "stream",
     "text": [
      "Model: \"sequential\"\n",
      "_________________________________________________________________\n",
      " Layer (type)                Output Shape              Param #   \n",
      "=================================================================\n",
      " keras_layer (KerasLayer)    (None, 50)                48190600  \n",
      "                                                                 \n",
      " dense (Dense)               (None, 16)                816       \n",
      "                                                                 \n",
      " dense_1 (Dense)             (None, 1)                 17        \n",
      "                                                                 \n",
      "=================================================================\n",
      "Total params: 48191433 (183.84 MB)\n",
      "Trainable params: 48191433 (183.84 MB)\n",
      "Non-trainable params: 0 (0.00 Byte)\n",
      "_________________________________________________________________\n"
     ]
    }
   ],
   "source": [
    "# Build the model and show its layers; model has two fully connected layers with hidden units of 16 and 1, respectively\n",
    "model = \"https://tfhub.dev/google/nnlm-en-dim50-with-normalization/2\"\n",
    "\n",
    "\n",
    "hub_layer = hub.KerasLayer(model, input_shape=[], dtype=tf.string, trainable=True)\n",
    "hub_layer(train_examples[:3])\n",
    "model = tf.keras.Sequential()\n",
    "model.add(hub_layer)\n",
    "model.add(tf.keras.layers.Dense(16, activation='relu'))\n",
    "model.add(tf.keras.layers.Dense(1))  # because it's binary classification\n",
    "model.summary()"
   ]
  },
  {
   "cell_type": "code",
   "execution_count": 26,
   "metadata": {
    "id": "BWZFkXu4EsNy"
   },
   "outputs": [],
   "source": [
    "\n",
    "# the loss function and metric are compatible with binary classification scenarios\n",
    "model.compile(optimizer='adam',\n",
    "              loss=tf.losses.BinaryCrossentropy(from_logits=True),\n",
    "              metrics=[tf.metrics.BinaryAccuracy(threshold=0.0, name='accuracy')])"
   ]
  },
  {
   "cell_type": "code",
   "execution_count": 27,
   "metadata": {
    "id": "eBixKJ5XG7jD"
   },
   "outputs": [],
   "source": [
    "# extracting validation examples from the training data\n",
    "x_val = train_examples[:round(validation_percentage * len(train_examples))]\n",
    "partial_x_train = train_examples[round(validation_percentage * len(train_examples)):]\n",
    "\n",
    "y_val = train_labels[:round(validation_percentage * len(train_examples))]\n",
    "partial_y_train = train_labels[round(validation_percentage * len(train_examples)):]\n"
   ]
  },
  {
   "cell_type": "code",
   "execution_count": 28,
   "metadata": {
    "id": "0xR5Wf_uzgRf"
   },
   "outputs": [],
   "source": [
    "import time"
   ]
  },
  {
   "cell_type": "code",
   "execution_count": 29,
   "metadata": {
    "colab": {
     "base_uri": "https://localhost:8080/"
    },
    "id": "ymMNP6K3HELh",
    "outputId": "96703407-b06e-471c-e72a-efacbc1ee808"
   },
   "outputs": [
    {
     "name": "stdout",
     "output_type": "stream",
     "text": [
      "Epoch 1/30\n",
      "7/7 [==============================] - 2s 260ms/step - loss: 0.6854 - accuracy: 0.5636 - val_loss: 0.6764 - val_accuracy: 0.6306\n",
      "Epoch 2/30\n",
      "7/7 [==============================] - 2s 239ms/step - loss: 0.6612 - accuracy: 0.6966 - val_loss: 0.6612 - val_accuracy: 0.6361\n",
      "Epoch 3/30\n",
      "7/7 [==============================] - 2s 237ms/step - loss: 0.6397 - accuracy: 0.7349 - val_loss: 0.6468 - val_accuracy: 0.6528\n",
      "Epoch 4/30\n",
      "7/7 [==============================] - 2s 238ms/step - loss: 0.6168 - accuracy: 0.7552 - val_loss: 0.6312 - val_accuracy: 0.6694\n",
      "Epoch 5/30\n",
      "7/7 [==============================] - 2s 237ms/step - loss: 0.5921 - accuracy: 0.7787 - val_loss: 0.6141 - val_accuracy: 0.7083\n",
      "Epoch 6/30\n",
      "7/7 [==============================] - 2s 240ms/step - loss: 0.5646 - accuracy: 0.7991 - val_loss: 0.5957 - val_accuracy: 0.7306\n",
      "Epoch 7/30\n",
      "7/7 [==============================] - 2s 237ms/step - loss: 0.5338 - accuracy: 0.8278 - val_loss: 0.5757 - val_accuracy: 0.7444\n",
      "Epoch 8/30\n",
      "7/7 [==============================] - 2s 236ms/step - loss: 0.5001 - accuracy: 0.8503 - val_loss: 0.5556 - val_accuracy: 0.7556\n",
      "Epoch 9/30\n",
      "7/7 [==============================] - 2s 236ms/step - loss: 0.4635 - accuracy: 0.8682 - val_loss: 0.5357 - val_accuracy: 0.7667\n",
      "Epoch 10/30\n",
      "7/7 [==============================] - 2s 236ms/step - loss: 0.4253 - accuracy: 0.8901 - val_loss: 0.5151 - val_accuracy: 0.7833\n",
      "Epoch 11/30\n",
      "7/7 [==============================] - 2s 236ms/step - loss: 0.3857 - accuracy: 0.9114 - val_loss: 0.4948 - val_accuracy: 0.7944\n",
      "Epoch 12/30\n",
      "7/7 [==============================] - 2s 236ms/step - loss: 0.3461 - accuracy: 0.9284 - val_loss: 0.4757 - val_accuracy: 0.7944\n",
      "Epoch 13/30\n",
      "7/7 [==============================] - 2s 236ms/step - loss: 0.3069 - accuracy: 0.9420 - val_loss: 0.4589 - val_accuracy: 0.8083\n",
      "Epoch 14/30\n",
      "7/7 [==============================] - 2s 236ms/step - loss: 0.2691 - accuracy: 0.9497 - val_loss: 0.4416 - val_accuracy: 0.8167\n",
      "Epoch 15/30\n",
      "7/7 [==============================] - 2s 236ms/step - loss: 0.2333 - accuracy: 0.9605 - val_loss: 0.4269 - val_accuracy: 0.8222\n",
      "Epoch 16/30\n",
      "7/7 [==============================] - 2s 239ms/step - loss: 0.1997 - accuracy: 0.9682 - val_loss: 0.4157 - val_accuracy: 0.8278\n",
      "Epoch 17/30\n",
      "7/7 [==============================] - 2s 237ms/step - loss: 0.1702 - accuracy: 0.9750 - val_loss: 0.4055 - val_accuracy: 0.8361\n",
      "Epoch 18/30\n",
      "7/7 [==============================] - 2s 236ms/step - loss: 0.1449 - accuracy: 0.9809 - val_loss: 0.3985 - val_accuracy: 0.8333\n",
      "Epoch 19/30\n",
      "7/7 [==============================] - 2s 236ms/step - loss: 0.1237 - accuracy: 0.9858 - val_loss: 0.3914 - val_accuracy: 0.8194\n",
      "Epoch 20/30\n",
      "7/7 [==============================] - 2s 236ms/step - loss: 0.1055 - accuracy: 0.9889 - val_loss: 0.3899 - val_accuracy: 0.8222\n",
      "Epoch 21/30\n",
      "7/7 [==============================] - 2s 236ms/step - loss: 0.0902 - accuracy: 0.9907 - val_loss: 0.3868 - val_accuracy: 0.8167\n",
      "Epoch 22/30\n",
      "7/7 [==============================] - 2s 237ms/step - loss: 0.0774 - accuracy: 0.9923 - val_loss: 0.3857 - val_accuracy: 0.8250\n",
      "Epoch 23/30\n",
      "7/7 [==============================] - 2s 237ms/step - loss: 0.0671 - accuracy: 0.9935 - val_loss: 0.3874 - val_accuracy: 0.8278\n",
      "Epoch 24/30\n",
      "7/7 [==============================] - 2s 236ms/step - loss: 0.0589 - accuracy: 0.9941 - val_loss: 0.3905 - val_accuracy: 0.8278\n",
      "Epoch 25/30\n",
      "7/7 [==============================] - 2s 236ms/step - loss: 0.0520 - accuracy: 0.9948 - val_loss: 0.3942 - val_accuracy: 0.8278\n",
      "Epoch 26/30\n",
      "7/7 [==============================] - 2s 237ms/step - loss: 0.0465 - accuracy: 0.9951 - val_loss: 0.3964 - val_accuracy: 0.8278\n",
      "Epoch 27/30\n",
      "7/7 [==============================] - 2s 235ms/step - loss: 0.0419 - accuracy: 0.9960 - val_loss: 0.4025 - val_accuracy: 0.8278\n",
      "Epoch 28/30\n",
      "7/7 [==============================] - 2s 236ms/step - loss: 0.0379 - accuracy: 0.9960 - val_loss: 0.4042 - val_accuracy: 0.8250\n",
      "Epoch 29/30\n",
      "7/7 [==============================] - 2s 236ms/step - loss: 0.0345 - accuracy: 0.9963 - val_loss: 0.4080 - val_accuracy: 0.8222\n",
      "Epoch 30/30\n",
      "7/7 [==============================] - 2s 236ms/step - loss: 0.0317 - accuracy: 0.9966 - val_loss: 0.4133 - val_accuracy: 0.8250\n",
      "Training time: 50.34 seconds\n"
     ]
    }
   ],
   "source": [
    "start_time = time.time()\n",
    "\n",
    "# training the model\n",
    "history = model.fit(partial_x_train,\n",
    "                    partial_y_train,\n",
    "                    epochs=30,\n",
    "                    batch_size=512,\n",
    "                    validation_data=(x_val, y_val),\n",
    "                    verbose=1)\n",
    "\n",
    "\n",
    "end_time = time.time()\n",
    "\n",
    "training_time  = end_time - start_time\n",
    "\n",
    "print(f\"Training time: {training_time:.2f} seconds\")"
   ]
  },
  {
   "cell_type": "code",
   "execution_count": 30,
   "metadata": {
    "colab": {
     "base_uri": "https://localhost:8080/",
     "height": 963
    },
    "id": "WVaw3DUA7r1H",
    "outputId": "882184f1-8655-494a-df61-a59f55835454"
   },
   "outputs": [
    {
     "data": {
      "image/png": "[encoded data removed]",
      "text/plain": [
       "<Figure size 640x480 with 1 Axes>"
      ]
     },
     "metadata": {},
     "output_type": "display_data"
    },
    {
     "data": {
      "image/png": "[encoded data removed]",
      "text/plain": [
       "<Figure size 640x480 with 1 Axes>"
      ]
     },
     "metadata": {},
     "output_type": "display_data"
    },
    {
     "name": "stdout",
     "output_type": "stream",
     "text": [
      "13/13 [==============================] - 0s 15ms/step - loss: 0.3467 - accuracy: 0.8550\n",
      "[0.34667685627937317, 0.8550000190734863]\n"
     ]
    }
   ],
   "source": [
    "# see model training history\n",
    "history_dict = history.history\n",
    "history_dict.keys()\n",
    "\n",
    "acc = history_dict['accuracy']\n",
    "val_acc = history_dict['val_accuracy']\n",
    "loss = history_dict['loss']\n",
    "val_loss = history_dict['val_loss']\n",
    "\n",
    "epochs = range(1, len(acc) + 1)\n",
    "\n",
    "# \"bo\" is for \"blue dot\"\n",
    "plt.plot(epochs, loss, 'bo', label='Training loss')\n",
    "# b is for \"solid blue line\"\n",
    "plt.plot(epochs, val_loss, 'b', label='Validation loss')\n",
    "plt.title('Training and validation loss')\n",
    "plt.xlabel('Epochs')\n",
    "plt.ylabel('Loss')\n",
    "plt.legend()\n",
    "\n",
    "plt.show()\n",
    "\n",
    "plt.clf()  # clear figure\n",
    "\n",
    "plt.plot(epochs, acc, 'bo', label='Training acc')\n",
    "plt.plot(epochs, val_acc, 'b', label='Validation acc')\n",
    "plt.title('Training and validation accuracy')\n",
    "plt.xlabel('Epochs')\n",
    "plt.ylabel('Accuracy')\n",
    "plt.legend()\n",
    "\n",
    "plt.show()\n",
    "\n",
    "\n",
    "results = model.evaluate(test_examples, test_labels)  # this return loss value and accuracy\n",
    "print(results)\n",
    "\n"
   ]
  },
  {
   "cell_type": "code",
   "execution_count": 31,
   "metadata": {
    "colab": {
     "base_uri": "https://localhost:8080/"
    },
    "id": "f-WmRgReHOrs",
    "outputId": "6a3dc282-5552-4ca3-d06e-3072e673dbd2"
   },
   "outputs": [
    {
     "name": "stdout",
     "output_type": "stream",
     "text": [
      "13/13 [==============================] - 0s 15ms/step\n",
      "              precision    recall  f1-score   support\n",
      "\n",
      "         0.0       0.87      0.84      0.85       200\n",
      "         1.0       0.84      0.87      0.86       200\n",
      "\n",
      "    accuracy                           0.85       400\n",
      "   macro avg       0.86      0.85      0.85       400\n",
      "weighted avg       0.86      0.85      0.85       400\n",
      "\n"
     ]
    }
   ],
   "source": [
    "# another method to evaluate performance\n",
    "predictions = model.predict(test_examples)\n",
    "predictions[predictions >= 0] = 1\n",
    "predictions[predictions < 0] = 0\n",
    "confusionMatrix = confusion_matrix(test_labels, predictions, normalize='pred')\n",
    "acc = metrics.accuracy_score(test_labels, predictions)\n",
    "print(classification_report(test_labels, predictions))"
   ]
  },
  {
   "cell_type": "markdown",
   "metadata": {
    "id": "F7_OW0tKHUBN"
   },
   "source": [
    "Confusion Matrix"
   ]
  },
  {
   "cell_type": "code",
   "execution_count": 32,
   "metadata": {
    "id": "cPR_3QTx1DGN"
   },
   "outputs": [],
   "source": [
    "import numpy as np\n",
    "import matplotlib.pyplot as plt\n",
    "from sklearn.metrics import confusion_matrix\n",
    "import seaborn as sns\n"
   ]
  },
  {
   "cell_type": "code",
   "execution_count": 33,
   "metadata": {
    "colab": {
     "base_uri": "https://localhost:8080/",
     "height": 610
    },
    "id": "Q9tsetS4cEyP",
    "outputId": "222b5141-8c05-48a9-a6f8-0b27b4f3fc5c"
   },
   "outputs": [
    {
     "name": "stdout",
     "output_type": "stream",
     "text": [
      "13/13 [==============================] - 0s 15ms/step\n"
     ]
    },
    {
     "data": {
      "image/png": "[encoded data removed]",
      "text/plain": [
       "<Figure size 800x600 with 2 Axes>"
      ]
     },
     "metadata": {},
     "output_type": "display_data"
    }
   ],
   "source": [
    "from sklearn.metrics import confusion_matrix\n",
    "import seaborn as sns\n",
    "\n",
    "# Make predictions on the test set\n",
    "predictions = model.predict(test_examples)\n",
    "predictions = (predictions > 0.5)  # Convert probabilities to binary predictions\n",
    "\n",
    "# Define class labels\n",
    "class_labels = [\"good\", \"bad\"]\n",
    "\n",
    "# Create confusion matrix\n",
    "cm = confusion_matrix(test_labels, predictions)\n",
    "\n",
    "# Plot confusion matrix\n",
    "plt.figure(figsize=(8, 6))\n",
    "sns.set(font_scale=1.5)  # Adjust font scale for better readability\n",
    "sns.heatmap(cm, annot=True, fmt=\"d\", cmap=\"Blues\", xticklabels=class_labels, yticklabels=class_labels)\n",
    "plt.xlabel('Predicted')\n",
    "plt.ylabel('Actual')\n",
    "plt.title('Confusion Matrix')\n",
    "plt.show()\n"
   ]
  },
  {
   "cell_type": "code",
   "execution_count": null,
   "metadata": {
    "id": "fgGRzzyuV9S5"
   },
   "outputs": [],
   "source": []
  }
 ],
 "metadata": {
  "colab": {
   "provenance": []
  },
  "kernelspec": {
   "display_name": "Python 3 (ipykernel)",
   "language": "python",
   "name": "python3"
  },
  "language_info": {
   "codemirror_mode": {
    "name": "ipython",
    "version": 3
   },
   "file_extension": ".py",
   "mimetype": "text/x-python",
   "name": "python",
   "nbconvert_exporter": "python",
   "pygments_lexer": "ipython3",
   "version": "3.8.10"
  }
 },
 "nbformat": 4,
 "nbformat_minor": 4
}
