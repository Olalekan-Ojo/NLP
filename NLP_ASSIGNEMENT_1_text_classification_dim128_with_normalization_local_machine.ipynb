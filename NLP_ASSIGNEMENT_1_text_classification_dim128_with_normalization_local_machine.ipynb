{
 "cells": [
  {
   "cell_type": "markdown",
   "metadata": {
    "id": "b8LlT9tF82y1"
   },
   "source": [
    "**NLP: ASSIGNMENT 1 TEXT CLASSIFICATION**"
   ]
  },
  {
   "cell_type": "markdown",
   "metadata": {
    "id": "eQVvftRo9BbX"
   },
   "source": [
    "Importing Neccessary libraries"
   ]
  },
  {
   "cell_type": "code",
   "execution_count": 13,
   "metadata": {},
   "outputs": [
    {
     "name": "stdout",
     "output_type": "stream",
     "text": [
      "/bin/bash: /home/sdp629/Desktop/nlp_text/bin/pip: Operation not permitted\n",
      "/bin/bash: /home/sdp629/Desktop/nlp_text/bin/pip: Operation not permitted\n",
      "/bin/bash: /home/sdp629/Desktop/nlp_text/bin/pip: Operation not permitted\n",
      "/bin/bash: Install: command not found\n",
      "/bin/bash: /home/sdp629/Desktop/nlp_text/bin/pip: Operation not permitted\n",
      "/bin/bash: /home/sdp629/Desktop/nlp_text/bin/pip: Operation not permitted\n",
      "/bin/bash: /home/sdp629/Desktop/nlp_text/bin/pip: Operation not permitted\n",
      "/bin/bash: /home/sdp629/Desktop/nlp_text/bin/pip: Operation not permitted\n",
      "/bin/bash: /home/sdp629/Desktop/nlp_text/bin/pip: Operation not permitted\n"
     ]
    }
   ],
   "source": [
    "!pip install numpy\n",
    "!pip install tensorflow\n",
    "!pip install tensorflow_hub\n",
    "!Install matplotlib\n",
    "!pip install matplotlib\n",
    "!pip install pandas\n",
    "!pip install nltk\n",
    "!pip install seaborn\n",
    "!pip install -U scikit-learn"
   ]
  },
  {
   "cell_type": "code",
   "execution_count": 34,
   "metadata": {
    "colab": {
     "base_uri": "https://localhost:8080/"
    },
    "id": "khdqLwhM7gRO",
    "outputId": "7d4f9a1c-55a7-42b3-d768-3189ce3af8a2"
   },
   "outputs": [
    {
     "name": "stdout",
     "output_type": "stream",
     "text": [
      "Version:  2.13.1\n",
      "Eager mode:  True\n",
      "Hub version:  0.16.1\n",
      "GPU is NOT AVAILABLE\n"
     ]
    },
    {
     "name": "stderr",
     "output_type": "stream",
     "text": [
      "[nltk_data] Downloading package stopwords to /home/sdp629/nltk_data...\n",
      "[nltk_data]   Package stopwords is already up-to-date!\n",
      "[nltk_data] Downloading package punkt to /home/sdp629/nltk_data...\n",
      "[nltk_data]   Package punkt is already up-to-date!\n",
      "[nltk_data] Downloading package wordnet to /home/sdp629/nltk_data...\n",
      "[nltk_data]   Package wordnet is already up-to-date!\n",
      "[nltk_data] Downloading package omw-1.4 to /home/sdp629/nltk_data...\n",
      "[nltk_data]   Package omw-1.4 is already up-to-date!\n",
      "[nltk_data] Downloading package vader_lexicon to\n",
      "[nltk_data]     /home/sdp629/nltk_data...\n",
      "[nltk_data]   Package vader_lexicon is already up-to-date!\n",
      "[nltk_data] Downloading collection 'popular'\n",
      "[nltk_data]    | \n",
      "[nltk_data]    | Downloading package cmudict to\n",
      "[nltk_data]    |     /home/sdp629/nltk_data...\n",
      "[nltk_data]    |   Package cmudict is already up-to-date!\n",
      "[nltk_data]    | Downloading package gazetteers to\n",
      "[nltk_data]    |     /home/sdp629/nltk_data...\n",
      "[nltk_data]    |   Package gazetteers is already up-to-date!\n",
      "[nltk_data]    | Downloading package genesis to\n",
      "[nltk_data]    |     /home/sdp629/nltk_data...\n",
      "[nltk_data]    |   Package genesis is already up-to-date!\n",
      "[nltk_data]    | Downloading package gutenberg to\n",
      "[nltk_data]    |     /home/sdp629/nltk_data...\n",
      "[nltk_data]    |   Package gutenberg is already up-to-date!\n",
      "[nltk_data]    | Downloading package inaugural to\n",
      "[nltk_data]    |     /home/sdp629/nltk_data...\n",
      "[nltk_data]    |   Package inaugural is already up-to-date!\n",
      "[nltk_data]    | Downloading package movie_reviews to\n",
      "[nltk_data]    |     /home/sdp629/nltk_data...\n",
      "[nltk_data]    |   Package movie_reviews is already up-to-date!\n",
      "[nltk_data]    | Downloading package names to\n",
      "[nltk_data]    |     /home/sdp629/nltk_data...\n",
      "[nltk_data]    |   Package names is already up-to-date!\n",
      "[nltk_data]    | Downloading package shakespeare to\n",
      "[nltk_data]    |     /home/sdp629/nltk_data...\n",
      "[nltk_data]    |   Package shakespeare is already up-to-date!\n",
      "[nltk_data]    | Downloading package stopwords to\n",
      "[nltk_data]    |     /home/sdp629/nltk_data...\n",
      "[nltk_data]    |   Package stopwords is already up-to-date!\n",
      "[nltk_data]    | Downloading package treebank to\n",
      "[nltk_data]    |     /home/sdp629/nltk_data...\n",
      "[nltk_data]    |   Package treebank is already up-to-date!\n",
      "[nltk_data]    | Downloading package twitter_samples to\n",
      "[nltk_data]    |     /home/sdp629/nltk_data...\n",
      "[nltk_data]    |   Package twitter_samples is already up-to-date!\n",
      "[nltk_data]    | Downloading package omw to /home/sdp629/nltk_data...\n",
      "[nltk_data]    |   Package omw is already up-to-date!\n",
      "[nltk_data]    | Downloading package omw-1.4 to\n",
      "[nltk_data]    |     /home/sdp629/nltk_data...\n",
      "[nltk_data]    |   Package omw-1.4 is already up-to-date!\n",
      "[nltk_data]    | Downloading package wordnet to\n",
      "[nltk_data]    |     /home/sdp629/nltk_data...\n",
      "[nltk_data]    |   Package wordnet is already up-to-date!\n",
      "[nltk_data]    | Downloading package wordnet2021 to\n",
      "[nltk_data]    |     /home/sdp629/nltk_data...\n",
      "[nltk_data]    |   Package wordnet2021 is already up-to-date!\n",
      "[nltk_data]    | Downloading package wordnet31 to\n",
      "[nltk_data]    |     /home/sdp629/nltk_data...\n",
      "[nltk_data]    |   Package wordnet31 is already up-to-date!\n",
      "[nltk_data]    | Downloading package wordnet_ic to\n",
      "[nltk_data]    |     /home/sdp629/nltk_data...\n",
      "[nltk_data]    |   Package wordnet_ic is already up-to-date!\n",
      "[nltk_data]    | Downloading package words to\n",
      "[nltk_data]    |     /home/sdp629/nltk_data...\n",
      "[nltk_data]    |   Package words is already up-to-date!\n",
      "[nltk_data]    | Downloading package maxent_ne_chunker to\n",
      "[nltk_data]    |     /home/sdp629/nltk_data...\n",
      "[nltk_data]    |   Package maxent_ne_chunker is already up-to-date!\n",
      "[nltk_data]    | Downloading package punkt to\n",
      "[nltk_data]    |     /home/sdp629/nltk_data...\n",
      "[nltk_data]    |   Package punkt is already up-to-date!\n",
      "[nltk_data]    | Downloading package snowball_data to\n",
      "[nltk_data]    |     /home/sdp629/nltk_data...\n",
      "[nltk_data]    |   Package snowball_data is already up-to-date!\n",
      "[nltk_data]    | Downloading package averaged_perceptron_tagger to\n",
      "[nltk_data]    |     /home/sdp629/nltk_data...\n",
      "[nltk_data]    |   Package averaged_perceptron_tagger is already up-\n",
      "[nltk_data]    |       to-date!\n",
      "[nltk_data]    | \n",
      "[nltk_data]  Done downloading collection popular\n"
     ]
    }
   ],
   "source": [
    "#globals().clear()  # clear all variables\n",
    "\n",
    "import numpy as np\n",
    "import re\n",
    "import tensorflow as tf\n",
    "import tensorflow_hub as hub\n",
    "import matplotlib.pyplot as plt\n",
    "import pandas as pd\n",
    "import nltk\n",
    "nltk.download(['stopwords',\n",
    "               'punkt',\n",
    "               'wordnet',\n",
    "               'omw-1.4',\n",
    "               'vader_lexicon',\n",
    "               'popular'])\n",
    "\n",
    "from sklearn.metrics import confusion_matrix\n",
    "from sklearn.metrics import classification_report\n",
    "from sklearn import metrics\n",
    "\n",
    "print(\"Version: \", tf.__version__)\n",
    "print(\"Eager mode: \", tf.executing_eagerly())\n",
    "print(\"Hub version: \", hub.__version__)\n",
    "print(\"GPU is\", \"available\" if tf.config.list_physical_devices('GPU') else \"NOT AVAILABLE\")\n",
    "\n"
   ]
  },
  {
   "cell_type": "code",
   "execution_count": 35,
   "metadata": {
    "id": "Fi0xEzL3iqFa"
   },
   "outputs": [],
   "source": [
    "data = pd.read_csv(\"Chatgpt.csv\")"
   ]
  },
  {
   "cell_type": "code",
   "execution_count": 36,
   "metadata": {
    "colab": {
     "base_uri": "https://localhost:8080/",
     "height": 424
    },
    "id": "_u0mwGhrirVW",
    "outputId": "5e7d044f-ff12-4207-e55a-9c2744c67abf"
   },
   "outputs": [
    {
     "data": {
      "text/html": [
       "<div>\n",
       "<style scoped>\n",
       "    .dataframe tbody tr th:only-of-type {\n",
       "        vertical-align: middle;\n",
       "    }\n",
       "\n",
       "    .dataframe tbody tr th {\n",
       "        vertical-align: top;\n",
       "    }\n",
       "\n",
       "    .dataframe thead th {\n",
       "        text-align: right;\n",
       "    }\n",
       "</style>\n",
       "<table border=\"1\" class=\"dataframe\">\n",
       "  <thead>\n",
       "    <tr style=\"text-align: right;\">\n",
       "      <th></th>\n",
       "      <th>Unnamed: 0</th>\n",
       "      <th>tweets</th>\n",
       "      <th>labels</th>\n",
       "    </tr>\n",
       "  </thead>\n",
       "  <tbody>\n",
       "    <tr>\n",
       "      <th>0</th>\n",
       "      <td>1</td>\n",
       "      <td>As of 2 minutes ago, @OpenAI released their ne...</td>\n",
       "      <td>bad</td>\n",
       "    </tr>\n",
       "    <tr>\n",
       "      <th>1</th>\n",
       "      <td>2</td>\n",
       "      <td>Try talking with ChatGPT, our new AI system wh...</td>\n",
       "      <td>good</td>\n",
       "    </tr>\n",
       "    <tr>\n",
       "      <th>2</th>\n",
       "      <td>3</td>\n",
       "      <td>GOD DAMN IT @OpenAI STOP ANNOUNCING THINGS I A...</td>\n",
       "      <td>bad</td>\n",
       "    </tr>\n",
       "    <tr>\n",
       "      <th>3</th>\n",
       "      <td>4</td>\n",
       "      <td>THRILLED to share that ChatGPT, our new model ...</td>\n",
       "      <td>good</td>\n",
       "    </tr>\n",
       "    <tr>\n",
       "      <th>4</th>\n",
       "      <td>5</td>\n",
       "      <td>#ai Models are set to become the search engine...</td>\n",
       "      <td>bad</td>\n",
       "    </tr>\n",
       "    <tr>\n",
       "      <th>...</th>\n",
       "      <td>...</td>\n",
       "      <td>...</td>\n",
       "      <td>...</td>\n",
       "    </tr>\n",
       "    <tr>\n",
       "      <th>3995</th>\n",
       "      <td>3996</td>\n",
       "      <td>\"Just had a great conversation with #ChatGPT f...</td>\n",
       "      <td>good</td>\n",
       "    </tr>\n",
       "    <tr>\n",
       "      <th>3996</th>\n",
       "      <td>3997</td>\n",
       "      <td>Personal DS &amp;amp; Algos tutor ðŸ˜Š... Going to...</td>\n",
       "      <td>good</td>\n",
       "    </tr>\n",
       "    <tr>\n",
       "      <th>3997</th>\n",
       "      <td>3998</td>\n",
       "      <td>Asked #ChatGPT to write a fan fiction story in...</td>\n",
       "      <td>good</td>\n",
       "    </tr>\n",
       "    <tr>\n",
       "      <th>3998</th>\n",
       "      <td>3999</td>\n",
       "      <td>ChatGPT is very powerful, but you need enough ...</td>\n",
       "      <td>good</td>\n",
       "    </tr>\n",
       "    <tr>\n",
       "      <th>3999</th>\n",
       "      <td>4000</td>\n",
       "      <td>#ChatGPT \\n\\nAlaska was purchased for 2 cents ...</td>\n",
       "      <td>good</td>\n",
       "    </tr>\n",
       "  </tbody>\n",
       "</table>\n",
       "<p>4000 rows × 3 columns</p>\n",
       "</div>"
      ],
      "text/plain": [
       "      Unnamed: 0                                             tweets labels\n",
       "0              1  As of 2 minutes ago, @OpenAI released their ne...    bad\n",
       "1              2  Try talking with ChatGPT, our new AI system wh...   good\n",
       "2              3  GOD DAMN IT @OpenAI STOP ANNOUNCING THINGS I A...    bad\n",
       "3              4  THRILLED to share that ChatGPT, our new model ...   good\n",
       "4              5  #ai Models are set to become the search engine...    bad\n",
       "...          ...                                                ...    ...\n",
       "3995        3996  \"Just had a great conversation with #ChatGPT f...   good\n",
       "3996        3997  Personal DS &amp; Algos tutor ðŸ˜Š... Going to...   good\n",
       "3997        3998  Asked #ChatGPT to write a fan fiction story in...   good\n",
       "3998        3999  ChatGPT is very powerful, but you need enough ...   good\n",
       "3999        4000  #ChatGPT \\n\\nAlaska was purchased for 2 cents ...   good\n",
       "\n",
       "[4000 rows x 3 columns]"
      ]
     },
     "execution_count": 36,
     "metadata": {},
     "output_type": "execute_result"
    }
   ],
   "source": [
    "data"
   ]
  },
  {
   "cell_type": "code",
   "execution_count": 37,
   "metadata": {
    "colab": {
     "base_uri": "https://localhost:8080/",
     "height": 300
    },
    "id": "c8c-rnlnmTXZ",
    "outputId": "cf608859-bdd7-45ce-bd50-d4d634648884"
   },
   "outputs": [
    {
     "data": {
      "text/html": [
       "<div>\n",
       "<style scoped>\n",
       "    .dataframe tbody tr th:only-of-type {\n",
       "        vertical-align: middle;\n",
       "    }\n",
       "\n",
       "    .dataframe tbody tr th {\n",
       "        vertical-align: top;\n",
       "    }\n",
       "\n",
       "    .dataframe thead th {\n",
       "        text-align: right;\n",
       "    }\n",
       "</style>\n",
       "<table border=\"1\" class=\"dataframe\">\n",
       "  <thead>\n",
       "    <tr style=\"text-align: right;\">\n",
       "      <th></th>\n",
       "      <th>Unnamed: 0</th>\n",
       "    </tr>\n",
       "  </thead>\n",
       "  <tbody>\n",
       "    <tr>\n",
       "      <th>count</th>\n",
       "      <td>4000.000000</td>\n",
       "    </tr>\n",
       "    <tr>\n",
       "      <th>mean</th>\n",
       "      <td>2000.500000</td>\n",
       "    </tr>\n",
       "    <tr>\n",
       "      <th>std</th>\n",
       "      <td>1154.844867</td>\n",
       "    </tr>\n",
       "    <tr>\n",
       "      <th>min</th>\n",
       "      <td>1.000000</td>\n",
       "    </tr>\n",
       "    <tr>\n",
       "      <th>25%</th>\n",
       "      <td>1000.750000</td>\n",
       "    </tr>\n",
       "    <tr>\n",
       "      <th>50%</th>\n",
       "      <td>2000.500000</td>\n",
       "    </tr>\n",
       "    <tr>\n",
       "      <th>75%</th>\n",
       "      <td>3000.250000</td>\n",
       "    </tr>\n",
       "    <tr>\n",
       "      <th>max</th>\n",
       "      <td>4000.000000</td>\n",
       "    </tr>\n",
       "  </tbody>\n",
       "</table>\n",
       "</div>"
      ],
      "text/plain": [
       "        Unnamed: 0\n",
       "count  4000.000000\n",
       "mean   2000.500000\n",
       "std    1154.844867\n",
       "min       1.000000\n",
       "25%    1000.750000\n",
       "50%    2000.500000\n",
       "75%    3000.250000\n",
       "max    4000.000000"
      ]
     },
     "execution_count": 37,
     "metadata": {},
     "output_type": "execute_result"
    }
   ],
   "source": [
    "data.describe()"
   ]
  },
  {
   "cell_type": "code",
   "execution_count": 38,
   "metadata": {
    "colab": {
     "base_uri": "https://localhost:8080/"
    },
    "id": "Mhz8uqGUCs6B",
    "outputId": "222162e0-de0f-4f69-9cd5-f8eceee95884"
   },
   "outputs": [
    {
     "name": "stdout",
     "output_type": "stream",
     "text": [
      "As of 2 minutes ago, @OpenAI released their new ChatGPT. \\n\\nAnd you can use it right now \\n \\nhttps://t.co/kUcnWYhQ1b\\n\\nðŸ¤¯ https://t.co/kCE59Xs0YG https://t.co/cSn5h6h1M1\n",
      "\n",
      "Try talking with ChatGPT, our new AI system which is optimized for dialogue. Your feedback will help us improve it. https://t.co/sHDm57g3Kr\n",
      "\n",
      "GOD DAMN IT @OpenAI STOP ANNOUNCING THINGS I AM TOO BUSY https://t.co/F7Xd511FAf\n",
      "\n",
      "THRILLED to share that ChatGPT, our new model optimized for dialog, is now public, free, and accessible to everyone. https://t.co/dyvtHecYbd https://t.co/DdhzhqhCBX https://t.co/l8qTLure71\n",
      "\n",
      "#ai Models are set to become the search engines of the future, ATM they still struggle with veracityâ€¦ here is #chatgpt by @OpenAI based on #GPT3. #seo\\n\\nhttps://t.co/qqZ1G0fOTy\n",
      "\n",
      "Just launched ChatGPT, our new AI system which is optimized for dialogue: https://t.co/ArX6m0FfLE.\\n\\nTry it out here: https://t.co/YM1gp5bA64\n",
      "\n",
      "Google is done.\\n\\nCompare the quality of these responses (ChatGPT) https://t.co/VGO7usvlIB\n",
      "\n",
      "ChatGPT coming out strong refusing to help me stalk someone but agreeing providing that someone is Waldo. https://t.co/CVIJERbW38\n",
      "\n",
      "ChatGPT vs. riddles https://t.co/YuPYOD0U7o\n",
      "\n",
      "#0penAl just deployed a thing I've been helping build the last couple of months, it's a chatbot based on GPT 3. I'm really excited to share this vl\\nhttps://t.co/zp7HniUxBu\\nhttps://t.co/NISJLWhOMw\n",
      "\n"
     ]
    }
   ],
   "source": [
    "for i in data.tweets.head(10):\n",
    "    print(i)\n",
    "    print()"
   ]
  },
  {
   "cell_type": "code",
   "execution_count": 39,
   "metadata": {
    "id": "d8gl8yWLCs3I"
   },
   "outputs": [],
   "source": [
    "# Remove all the tweet links since they all begin with https:\n",
    "\n",
    "data['tweet_list'] = data['tweets'].str.split('https:')"
   ]
  },
  {
   "cell_type": "code",
   "execution_count": 40,
   "metadata": {
    "colab": {
     "base_uri": "https://localhost:8080/",
     "height": 310
    },
    "id": "alePtzUYCsxM",
    "outputId": "d7502427-dfaa-4deb-8c3c-a2b27feed3d4"
   },
   "outputs": [
    {
     "data": {
      "text/html": [
       "<div>\n",
       "<style scoped>\n",
       "    .dataframe tbody tr th:only-of-type {\n",
       "        vertical-align: middle;\n",
       "    }\n",
       "\n",
       "    .dataframe tbody tr th {\n",
       "        vertical-align: top;\n",
       "    }\n",
       "\n",
       "    .dataframe thead th {\n",
       "        text-align: right;\n",
       "    }\n",
       "</style>\n",
       "<table border=\"1\" class=\"dataframe\">\n",
       "  <thead>\n",
       "    <tr style=\"text-align: right;\">\n",
       "      <th></th>\n",
       "      <th>Unnamed: 0</th>\n",
       "      <th>tweets</th>\n",
       "      <th>labels</th>\n",
       "      <th>tweet_list</th>\n",
       "    </tr>\n",
       "  </thead>\n",
       "  <tbody>\n",
       "    <tr>\n",
       "      <th>0</th>\n",
       "      <td>1</td>\n",
       "      <td>As of 2 minutes ago, @OpenAI released their ne...</td>\n",
       "      <td>bad</td>\n",
       "      <td>[As of 2 minutes ago, @OpenAI released their n...</td>\n",
       "    </tr>\n",
       "    <tr>\n",
       "      <th>1</th>\n",
       "      <td>2</td>\n",
       "      <td>Try talking with ChatGPT, our new AI system wh...</td>\n",
       "      <td>good</td>\n",
       "      <td>[Try talking with ChatGPT, our new AI system w...</td>\n",
       "    </tr>\n",
       "    <tr>\n",
       "      <th>2</th>\n",
       "      <td>3</td>\n",
       "      <td>GOD DAMN IT @OpenAI STOP ANNOUNCING THINGS I A...</td>\n",
       "      <td>bad</td>\n",
       "      <td>[GOD DAMN IT @OpenAI STOP ANNOUNCING THINGS I ...</td>\n",
       "    </tr>\n",
       "    <tr>\n",
       "      <th>3</th>\n",
       "      <td>4</td>\n",
       "      <td>THRILLED to share that ChatGPT, our new model ...</td>\n",
       "      <td>good</td>\n",
       "      <td>[THRILLED to share that ChatGPT, our new model...</td>\n",
       "    </tr>\n",
       "    <tr>\n",
       "      <th>4</th>\n",
       "      <td>5</td>\n",
       "      <td>#ai Models are set to become the search engine...</td>\n",
       "      <td>bad</td>\n",
       "      <td>[#ai Models are set to become the search engin...</td>\n",
       "    </tr>\n",
       "  </tbody>\n",
       "</table>\n",
       "</div>"
      ],
      "text/plain": [
       "   Unnamed: 0                                             tweets labels  \\\n",
       "0           1  As of 2 minutes ago, @OpenAI released their ne...    bad   \n",
       "1           2  Try talking with ChatGPT, our new AI system wh...   good   \n",
       "2           3  GOD DAMN IT @OpenAI STOP ANNOUNCING THINGS I A...    bad   \n",
       "3           4  THRILLED to share that ChatGPT, our new model ...   good   \n",
       "4           5  #ai Models are set to become the search engine...    bad   \n",
       "\n",
       "                                          tweet_list  \n",
       "0  [As of 2 minutes ago, @OpenAI released their n...  \n",
       "1  [Try talking with ChatGPT, our new AI system w...  \n",
       "2  [GOD DAMN IT @OpenAI STOP ANNOUNCING THINGS I ...  \n",
       "3  [THRILLED to share that ChatGPT, our new model...  \n",
       "4  [#ai Models are set to become the search engin...  "
      ]
     },
     "execution_count": 40,
     "metadata": {},
     "output_type": "execute_result"
    }
   ],
   "source": [
    "data.head()"
   ]
  },
  {
   "cell_type": "code",
   "execution_count": 41,
   "metadata": {
    "id": "xJWkSRkpCsui"
   },
   "outputs": [],
   "source": [
    "# Select the text part of the list\n",
    "\n",
    "text = [i[0] for i in data.tweet_list]"
   ]
  },
  {
   "cell_type": "code",
   "execution_count": 42,
   "metadata": {
    "colab": {
     "base_uri": "https://localhost:8080/",
     "height": 206
    },
    "id": "JV2ESm2MCsph",
    "outputId": "c47b6149-ec65-459c-ca5f-785c84350f1a"
   },
   "outputs": [
    {
     "data": {
      "text/html": [
       "<div>\n",
       "<style scoped>\n",
       "    .dataframe tbody tr th:only-of-type {\n",
       "        vertical-align: middle;\n",
       "    }\n",
       "\n",
       "    .dataframe tbody tr th {\n",
       "        vertical-align: top;\n",
       "    }\n",
       "\n",
       "    .dataframe thead th {\n",
       "        text-align: right;\n",
       "    }\n",
       "</style>\n",
       "<table border=\"1\" class=\"dataframe\">\n",
       "  <thead>\n",
       "    <tr style=\"text-align: right;\">\n",
       "      <th></th>\n",
       "      <th>text</th>\n",
       "      <th>labels</th>\n",
       "    </tr>\n",
       "  </thead>\n",
       "  <tbody>\n",
       "    <tr>\n",
       "      <th>0</th>\n",
       "      <td>As of 2 minutes ago, @OpenAI released their ne...</td>\n",
       "      <td>bad</td>\n",
       "    </tr>\n",
       "    <tr>\n",
       "      <th>1</th>\n",
       "      <td>Try talking with ChatGPT, our new AI system wh...</td>\n",
       "      <td>good</td>\n",
       "    </tr>\n",
       "    <tr>\n",
       "      <th>2</th>\n",
       "      <td>GOD DAMN IT @OpenAI STOP ANNOUNCING THINGS I A...</td>\n",
       "      <td>bad</td>\n",
       "    </tr>\n",
       "    <tr>\n",
       "      <th>3</th>\n",
       "      <td>THRILLED to share that ChatGPT, our new model ...</td>\n",
       "      <td>good</td>\n",
       "    </tr>\n",
       "    <tr>\n",
       "      <th>4</th>\n",
       "      <td>#ai Models are set to become the search engine...</td>\n",
       "      <td>bad</td>\n",
       "    </tr>\n",
       "  </tbody>\n",
       "</table>\n",
       "</div>"
      ],
      "text/plain": [
       "                                                text labels\n",
       "0  As of 2 minutes ago, @OpenAI released their ne...    bad\n",
       "1  Try talking with ChatGPT, our new AI system wh...   good\n",
       "2  GOD DAMN IT @OpenAI STOP ANNOUNCING THINGS I A...    bad\n",
       "3  THRILLED to share that ChatGPT, our new model ...   good\n",
       "4  #ai Models are set to become the search engine...    bad"
      ]
     },
     "execution_count": 42,
     "metadata": {},
     "output_type": "execute_result"
    }
   ],
   "source": [
    "data['text'] = text\n",
    "data = data[['text', 'labels']]\n",
    "data.head()\n"
   ]
  },
  {
   "cell_type": "code",
   "execution_count": 43,
   "metadata": {
    "colab": {
     "base_uri": "https://localhost:8080/"
    },
    "id": "rupn1cvDDPCf",
    "outputId": "e4227a0b-5e4b-4b98-c6dc-0263d9fd490e"
   },
   "outputs": [
    {
     "name": "stdout",
     "output_type": "stream",
     "text": [
      "As of 2 minutes ago, @OpenAI released their new ChatGPT. \\n\\nAnd you can use it right now \\n \\n\n",
      "\n",
      "Try talking with ChatGPT, our new AI system which is optimized for dialogue. Your feedback will help us improve it. \n",
      "\n",
      "GOD DAMN IT @OpenAI STOP ANNOUNCING THINGS I AM TOO BUSY \n",
      "\n",
      "THRILLED to share that ChatGPT, our new model optimized for dialog, is now public, free, and accessible to everyone. \n",
      "\n",
      "#ai Models are set to become the search engines of the future, ATM they still struggle with veracityâ€¦ here is #chatgpt by @OpenAI based on #GPT3. #seo\\n\\n\n",
      "\n",
      "Just launched ChatGPT, our new AI system which is optimized for dialogue: \n",
      "\n",
      "Google is done.\\n\\nCompare the quality of these responses (ChatGPT) \n",
      "\n",
      "ChatGPT coming out strong refusing to help me stalk someone but agreeing providing that someone is Waldo. \n",
      "\n",
      "ChatGPT vs. riddles \n",
      "\n",
      "#0penAl just deployed a thing I've been helping build the last couple of months, it's a chatbot based on GPT 3. I'm really excited to share this vl\\n\n",
      "\n"
     ]
    }
   ],
   "source": [
    "for i in data.text.head(10):\n",
    "    print(i)\n",
    "    print()"
   ]
  },
  {
   "cell_type": "code",
   "execution_count": 44,
   "metadata": {
    "colab": {
     "base_uri": "https://localhost:8080/"
    },
    "id": "9Fo9LLG0DXKS",
    "outputId": "de5dc8a3-2669-4eda-f7e0-beccc0f5e640"
   },
   "outputs": [
    {
     "name": "stderr",
     "output_type": "stream",
     "text": [
      "/tmp/ipykernel_15316/2505709679.py:1: SettingWithCopyWarning: \n",
      "A value is trying to be set on a copy of a slice from a DataFrame.\n",
      "Try using .loc[row_indexer,col_indexer] = value instead\n",
      "\n",
      "See the caveats in the documentation: https://pandas.pydata.org/pandas-docs/stable/user_guide/indexing.html#returning-a-view-versus-a-copy\n",
      "  data['text'] = data['text'].astype(str)\n"
     ]
    }
   ],
   "source": [
    "data['text'] = data['text'].astype(str)"
   ]
  },
  {
   "cell_type": "code",
   "execution_count": 45,
   "metadata": {
    "colab": {
     "base_uri": "https://localhost:8080/"
    },
    "id": "n2fniltXDXII",
    "outputId": "dc43be84-2588-49ec-abf7-b3b4962a8ec6"
   },
   "outputs": [
    {
     "name": "stdout",
     "output_type": "stream",
     "text": [
      "Null values in 'text' column: 0\n",
      "Non-string values in 'text' column: Series([], Name: text, dtype: object)\n"
     ]
    },
    {
     "name": "stderr",
     "output_type": "stream",
     "text": [
      "/tmp/ipykernel_15316/846306833.py:2: SettingWithCopyWarning: \n",
      "A value is trying to be set on a copy of a slice from a DataFrame.\n",
      "Try using .loc[row_indexer,col_indexer] = value instead\n",
      "\n",
      "See the caveats in the documentation: https://pandas.pydata.org/pandas-docs/stable/user_guide/indexing.html#returning-a-view-versus-a-copy\n",
      "  data['text'] = data['text'].apply(lambda x: str(x))\n"
     ]
    }
   ],
   "source": [
    "# Ensure 'text' column is of string type\n",
    "data['text'] = data['text'].apply(lambda x: str(x))\n",
    "\n",
    "# Check for any null values in 'text' column\n",
    "print(\"Null values in 'text' column:\", data['text'].isnull().sum())\n",
    "\n",
    "# Check for non-string values in 'text' column\n",
    "non_string_values = data['text'][data['text'].apply(lambda x: type(x) != str)]\n",
    "print(\"Non-string values in 'text' column:\", non_string_values)"
   ]
  },
  {
   "cell_type": "markdown",
   "metadata": {
    "id": "X7OOlHuiDtiX"
   },
   "source": [
    "TEXT PREPROCESSING"
   ]
  },
  {
   "cell_type": "code",
   "execution_count": 46,
   "metadata": {
    "id": "dgihDQIDDXGK"
   },
   "outputs": [],
   "source": [
    "import string\n",
    "from nltk.tokenize import word_tokenize"
   ]
  },
  {
   "cell_type": "code",
   "execution_count": 47,
   "metadata": {
    "id": "cQmJjqK8Ds4a"
   },
   "outputs": [],
   "source": [
    "# Layer of text preprocessing\n",
    "def preprocess_text(text):\n",
    "    # Convert to lowercase\n",
    "    text = text.lower()\n",
    "\n",
    "    # Remove '\\n' from words\n",
    "    text = text.replace('\\n', '')\n",
    "\n",
    "    # Remove punctuation\n",
    "    text = text.translate(str.maketrans(\"\", \"\", string.punctuation))\n",
    "\n",
    "    # Remove non-alphanumeric characters\n",
    "    #text = re.sub(r'[^a-zA-Z\\s]', '', text)\n",
    "\n",
    "    # Remove mentions, and hashtags\n",
    "    text = re.sub(r'@\\w+|#\\w+', '', text)\n",
    "\n",
    "    # Remove emojis and other non-ASCII characters\n",
    "    text = ''.join(char for char in text if char.isascii())\n",
    "\n",
    "    # Remove mentions and hashtags\n",
    "    text = re.sub(r'@\\w+|#\\w+', '', text)\n",
    "\n",
    "    # Tokenization using simple splitting\n",
    "    tokens = text.split()\n",
    "\n",
    "    # Tokenization using NLTK\n",
    "    tokens = word_tokenize(text)\n",
    "\n",
    "    # Remove stopwords\n",
    "    stopwords = nltk.corpus.stopwords.words('english')\n",
    "\n",
    "    # Join tokens back into text\n",
    "    preprocessed_text = ' '.join(tokens)\n",
    "\n",
    "    return preprocessed_text"
   ]
  },
  {
   "cell_type": "code",
   "execution_count": 48,
   "metadata": {
    "colab": {
     "base_uri": "https://localhost:8080/",
     "height": 333
    },
    "id": "bAWbfpuJDXDc",
    "outputId": "d7ae540e-8269-40cc-a616-174799e158b6"
   },
   "outputs": [
    {
     "name": "stderr",
     "output_type": "stream",
     "text": [
      "/tmp/ipykernel_15316/117680462.py:1: SettingWithCopyWarning: \n",
      "A value is trying to be set on a copy of a slice from a DataFrame.\n",
      "Try using .loc[row_indexer,col_indexer] = value instead\n",
      "\n",
      "See the caveats in the documentation: https://pandas.pydata.org/pandas-docs/stable/user_guide/indexing.html#returning-a-view-versus-a-copy\n",
      "  data['text'] = data['text'].apply(preprocess_text)\n"
     ]
    },
    {
     "data": {
      "text/html": [
       "<div>\n",
       "<style scoped>\n",
       "    .dataframe tbody tr th:only-of-type {\n",
       "        vertical-align: middle;\n",
       "    }\n",
       "\n",
       "    .dataframe tbody tr th {\n",
       "        vertical-align: top;\n",
       "    }\n",
       "\n",
       "    .dataframe thead th {\n",
       "        text-align: right;\n",
       "    }\n",
       "</style>\n",
       "<table border=\"1\" class=\"dataframe\">\n",
       "  <thead>\n",
       "    <tr style=\"text-align: right;\">\n",
       "      <th></th>\n",
       "      <th>text</th>\n",
       "      <th>labels</th>\n",
       "    </tr>\n",
       "  </thead>\n",
       "  <tbody>\n",
       "    <tr>\n",
       "      <th>0</th>\n",
       "      <td>as of 2 minutes ago openai released their new ...</td>\n",
       "      <td>bad</td>\n",
       "    </tr>\n",
       "    <tr>\n",
       "      <th>1</th>\n",
       "      <td>try talking with chatgpt our new ai system whi...</td>\n",
       "      <td>good</td>\n",
       "    </tr>\n",
       "    <tr>\n",
       "      <th>2</th>\n",
       "      <td>god damn it openai stop announcing things i am...</td>\n",
       "      <td>bad</td>\n",
       "    </tr>\n",
       "    <tr>\n",
       "      <th>3</th>\n",
       "      <td>thrilled to share that chatgpt our new model o...</td>\n",
       "      <td>good</td>\n",
       "    </tr>\n",
       "    <tr>\n",
       "      <th>4</th>\n",
       "      <td>ai models are set to become the search engines...</td>\n",
       "      <td>bad</td>\n",
       "    </tr>\n",
       "  </tbody>\n",
       "</table>\n",
       "</div>"
      ],
      "text/plain": [
       "                                                text labels\n",
       "0  as of 2 minutes ago openai released their new ...    bad\n",
       "1  try talking with chatgpt our new ai system whi...   good\n",
       "2  god damn it openai stop announcing things i am...    bad\n",
       "3  thrilled to share that chatgpt our new model o...   good\n",
       "4  ai models are set to become the search engines...    bad"
      ]
     },
     "execution_count": 48,
     "metadata": {},
     "output_type": "execute_result"
    }
   ],
   "source": [
    "data['text'] = data['text'].apply(preprocess_text)\n",
    "data.head()"
   ]
  },
  {
   "cell_type": "code",
   "execution_count": 49,
   "metadata": {
    "colab": {
     "base_uri": "https://localhost:8080/"
    },
    "id": "9c7Q6KFTDW82",
    "outputId": "ae69aeed-7bb9-4e9b-d63f-7225940681d8"
   },
   "outputs": [
    {
     "name": "stdout",
     "output_type": "stream",
     "text": [
      "as of 2 minutes ago openai released their new chatgpt nnand you can use it right now n n\n",
      "\n",
      "try talking with chatgpt our new ai system which is optimized for dialogue your feedback will help us improve it\n",
      "\n",
      "god damn it openai stop announcing things i am too busy\n",
      "\n",
      "thrilled to share that chatgpt our new model optimized for dialog is now public free and accessible to everyone\n",
      "\n",
      "ai models are set to become the search engines of the future atm they still struggle with veracity here is chatgpt by openai based on gpt3 seonn\n",
      "\n",
      "just launched chatgpt our new ai system which is optimized for dialogue\n",
      "\n",
      "google is donenncompare the quality of these responses chatgpt\n",
      "\n",
      "chatgpt coming out strong refusing to help me stalk someone but agreeing providing that someone is waldo\n",
      "\n",
      "chatgpt vs riddles\n",
      "\n",
      "0penal just deployed a thing ive been helping build the last couple of months its a chatbot based on gpt 3 im really excited to share this vln\n",
      "\n"
     ]
    }
   ],
   "source": [
    "for i in data.text.head(10):\n",
    "    print(i)\n",
    "    print()"
   ]
  },
  {
   "cell_type": "code",
   "execution_count": 50,
   "metadata": {
    "id": "J71cM466983w"
   },
   "outputs": [],
   "source": [
    "# set the percentages of training, validation and testing dataset\n",
    "test_percentage = 0.1\n",
    "validation_percentage = 0.1\n",
    "\n",
    "\n",
    "X = data.text.values\n",
    "y = data.labels.values"
   ]
  },
  {
   "cell_type": "code",
   "execution_count": 51,
   "metadata": {
    "colab": {
     "base_uri": "https://localhost:8080/"
    },
    "id": "AKCmdMja7rS3",
    "outputId": "df779e33-86c7-410e-ba22-698ded11dc9e"
   },
   "outputs": [
    {
     "name": "stdout",
     "output_type": "stream",
     "text": [
      "Training entries: 3600, test entries: 400\n"
     ]
    }
   ],
   "source": [
    " # convert the labels into numbers\n",
    "y[y == 'bad'] = 0\n",
    "y[y == 'good'] = 1\n",
    "y = np.asarray(y).astype('float32')\n",
    "\n",
    "# Partition the data into training and testing\n",
    "test_examples = np.asarray(X[:round(test_percentage * len(X))])\n",
    "train_examples = np.asarray(X[round(test_percentage * len(X)):])\n",
    "\n",
    "test_labels = np.asarray(y[:round(test_percentage * len(X))])\n",
    "train_labels = np.asarray(y[round(test_percentage * len(X)):])\n",
    "\n",
    "print(\"Training entries: {}, test entries: {}\".format(len(train_examples), len(test_examples)))"
   ]
  },
  {
   "cell_type": "code",
   "execution_count": 52,
   "metadata": {
    "colab": {
     "base_uri": "https://localhost:8080/"
    },
    "id": "1zDj3GXWEsoy",
    "outputId": "124487f4-cf56-4aa9-b759-1de0cb3412b4"
   },
   "outputs": [
    {
     "name": "stdout",
     "output_type": "stream",
     "text": [
      "Model: \"sequential_1\"\n",
      "_________________________________________________________________\n",
      " Layer (type)                Output Shape              Param #   \n",
      "=================================================================\n",
      " keras_layer_1 (KerasLayer)  (None, 128)               124642688 \n",
      "                                                                 \n",
      " dense_2 (Dense)             (None, 16)                2064      \n",
      "                                                                 \n",
      " dense_3 (Dense)             (None, 1)                 17        \n",
      "                                                                 \n",
      "=================================================================\n",
      "Total params: 124644769 (475.48 MB)\n",
      "Trainable params: 124644769 (475.48 MB)\n",
      "Non-trainable params: 0 (0.00 Byte)\n",
      "_________________________________________________________________\n"
     ]
    }
   ],
   "source": [
    "# Build the model and show its layers; model has two fully connected layers with hidden units of 16 and 1, respectively\n",
    "model = \"https://tfhub.dev/google/nnlm-en-dim128-with-normalization/2\"\n",
    "\n",
    "\n",
    "hub_layer = hub.KerasLayer(model, input_shape=[], dtype=tf.string, trainable=True)\n",
    "hub_layer(train_examples[:3])\n",
    "model = tf.keras.Sequential()\n",
    "model.add(hub_layer)\n",
    "model.add(tf.keras.layers.Dense(16, activation='relu'))\n",
    "model.add(tf.keras.layers.Dense(1))  # because it's binary classification\n",
    "model.summary()"
   ]
  },
  {
   "cell_type": "code",
   "execution_count": 53,
   "metadata": {
    "id": "BWZFkXu4EsNy"
   },
   "outputs": [],
   "source": [
    "\n",
    "# the loss function and metric are compatible with binary classification scenarios\n",
    "model.compile(optimizer='adam',\n",
    "              loss=tf.losses.BinaryCrossentropy(from_logits=True),\n",
    "              metrics=[tf.metrics.BinaryAccuracy(threshold=0.0, name='accuracy')])"
   ]
  },
  {
   "cell_type": "code",
   "execution_count": 54,
   "metadata": {
    "id": "eBixKJ5XG7jD"
   },
   "outputs": [],
   "source": [
    "# extracting validation examples from the training data\n",
    "x_val = train_examples[:round(validation_percentage * len(train_examples))]\n",
    "partial_x_train = train_examples[round(validation_percentage * len(train_examples)):]\n",
    "\n",
    "y_val = train_labels[:round(validation_percentage * len(train_examples))]\n",
    "partial_y_train = train_labels[round(validation_percentage * len(train_examples)):]\n"
   ]
  },
  {
   "cell_type": "code",
   "execution_count": 55,
   "metadata": {
    "id": "GIAs6-Cqu_qz"
   },
   "outputs": [],
   "source": [
    "import time\n"
   ]
  },
  {
   "cell_type": "code",
   "execution_count": 56,
   "metadata": {
    "colab": {
     "base_uri": "https://localhost:8080/"
    },
    "id": "ymMNP6K3HELh",
    "outputId": "4b5454bf-4e5d-487a-b786-2db2b71090e6"
   },
   "outputs": [
    {
     "name": "stdout",
     "output_type": "stream",
     "text": [
      "Epoch 1/30\n",
      "7/7 [==============================] - 4s 618ms/step - loss: 0.6851 - accuracy: 0.5349 - val_loss: 0.6680 - val_accuracy: 0.5750\n",
      "Epoch 2/30\n",
      "7/7 [==============================] - 4s 592ms/step - loss: 0.6450 - accuracy: 0.6590 - val_loss: 0.6425 - val_accuracy: 0.6194\n",
      "Epoch 3/30\n",
      "7/7 [==============================] - 4s 592ms/step - loss: 0.6054 - accuracy: 0.7346 - val_loss: 0.6165 - val_accuracy: 0.6750\n",
      "Epoch 4/30\n",
      "7/7 [==============================] - 4s 592ms/step - loss: 0.5628 - accuracy: 0.7907 - val_loss: 0.5875 - val_accuracy: 0.7528\n",
      "Epoch 5/30\n",
      "7/7 [==============================] - 4s 592ms/step - loss: 0.5150 - accuracy: 0.8448 - val_loss: 0.5562 - val_accuracy: 0.7667\n",
      "Epoch 6/30\n",
      "7/7 [==============================] - 4s 593ms/step - loss: 0.4619 - accuracy: 0.8883 - val_loss: 0.5228 - val_accuracy: 0.7944\n",
      "Epoch 7/30\n",
      "7/7 [==============================] - 4s 592ms/step - loss: 0.4056 - accuracy: 0.9130 - val_loss: 0.4912 - val_accuracy: 0.8083\n",
      "Epoch 8/30\n",
      "7/7 [==============================] - 4s 592ms/step - loss: 0.3487 - accuracy: 0.9373 - val_loss: 0.4605 - val_accuracy: 0.8250\n",
      "Epoch 9/30\n",
      "7/7 [==============================] - 4s 590ms/step - loss: 0.2929 - accuracy: 0.9562 - val_loss: 0.4344 - val_accuracy: 0.8278\n",
      "Epoch 10/30\n",
      "7/7 [==============================] - 4s 600ms/step - loss: 0.2407 - accuracy: 0.9676 - val_loss: 0.4108 - val_accuracy: 0.8278\n",
      "Epoch 11/30\n",
      "7/7 [==============================] - 4s 610ms/step - loss: 0.1947 - accuracy: 0.9775 - val_loss: 0.3908 - val_accuracy: 0.8278\n",
      "Epoch 12/30\n",
      "7/7 [==============================] - 4s 609ms/step - loss: 0.1564 - accuracy: 0.9827 - val_loss: 0.3806 - val_accuracy: 0.8306\n",
      "Epoch 13/30\n",
      "7/7 [==============================] - 4s 609ms/step - loss: 0.1256 - accuracy: 0.9873 - val_loss: 0.3685 - val_accuracy: 0.8361\n",
      "Epoch 14/30\n",
      "7/7 [==============================] - 4s 609ms/step - loss: 0.1011 - accuracy: 0.9914 - val_loss: 0.3640 - val_accuracy: 0.8389\n",
      "Epoch 15/30\n",
      "7/7 [==============================] - 4s 611ms/step - loss: 0.0827 - accuracy: 0.9932 - val_loss: 0.3605 - val_accuracy: 0.8389\n",
      "Epoch 16/30\n",
      "7/7 [==============================] - 4s 610ms/step - loss: 0.0683 - accuracy: 0.9938 - val_loss: 0.3582 - val_accuracy: 0.8472\n",
      "Epoch 17/30\n",
      "7/7 [==============================] - 4s 610ms/step - loss: 0.0573 - accuracy: 0.9954 - val_loss: 0.3604 - val_accuracy: 0.8417\n",
      "Epoch 18/30\n",
      "7/7 [==============================] - 4s 609ms/step - loss: 0.0490 - accuracy: 0.9957 - val_loss: 0.3622 - val_accuracy: 0.8417\n",
      "Epoch 19/30\n",
      "7/7 [==============================] - 4s 610ms/step - loss: 0.0422 - accuracy: 0.9957 - val_loss: 0.3644 - val_accuracy: 0.8444\n",
      "Epoch 20/30\n",
      "7/7 [==============================] - 4s 611ms/step - loss: 0.0370 - accuracy: 0.9960 - val_loss: 0.3685 - val_accuracy: 0.8500\n",
      "Epoch 21/30\n",
      "7/7 [==============================] - 4s 608ms/step - loss: 0.0328 - accuracy: 0.9966 - val_loss: 0.3706 - val_accuracy: 0.8528\n",
      "Epoch 22/30\n",
      "7/7 [==============================] - 4s 609ms/step - loss: 0.0292 - accuracy: 0.9972 - val_loss: 0.3718 - val_accuracy: 0.8472\n",
      "Epoch 23/30\n",
      "7/7 [==============================] - 4s 609ms/step - loss: 0.0264 - accuracy: 0.9975 - val_loss: 0.3739 - val_accuracy: 0.8472\n",
      "Epoch 24/30\n",
      "7/7 [==============================] - 4s 610ms/step - loss: 0.0242 - accuracy: 0.9975 - val_loss: 0.3765 - val_accuracy: 0.8444\n",
      "Epoch 25/30\n",
      "7/7 [==============================] - 4s 611ms/step - loss: 0.0221 - accuracy: 0.9978 - val_loss: 0.3819 - val_accuracy: 0.8500\n",
      "Epoch 26/30\n",
      "7/7 [==============================] - 4s 611ms/step - loss: 0.0204 - accuracy: 0.9978 - val_loss: 0.3857 - val_accuracy: 0.8472\n",
      "Epoch 27/30\n",
      "7/7 [==============================] - 4s 610ms/step - loss: 0.0190 - accuracy: 0.9978 - val_loss: 0.3872 - val_accuracy: 0.8361\n",
      "Epoch 28/30\n",
      "7/7 [==============================] - 4s 605ms/step - loss: 0.0178 - accuracy: 0.9978 - val_loss: 0.3893 - val_accuracy: 0.8389\n",
      "Epoch 29/30\n",
      "7/7 [==============================] - 4s 596ms/step - loss: 0.0167 - accuracy: 0.9978 - val_loss: 0.3921 - val_accuracy: 0.8389\n",
      "Epoch 30/30\n",
      "7/7 [==============================] - 4s 595ms/step - loss: 0.0158 - accuracy: 0.9981 - val_loss: 0.3944 - val_accuracy: 0.8389\n",
      "Training time: 126.77 seconds\n"
     ]
    }
   ],
   "source": [
    "start_time = time.time()\n",
    "\n",
    "# training the model\n",
    "history = model.fit(partial_x_train,\n",
    "                    partial_y_train,\n",
    "                    epochs=30,\n",
    "                    batch_size=512,\n",
    "                    validation_data=(x_val, y_val),\n",
    "                    verbose=1)\n",
    "\n",
    "end_time = time.time()\n",
    "\n",
    "training_time  = end_time - start_time\n",
    "\n",
    "print(f\"Training time: {training_time:.2f} seconds\")\n"
   ]
  },
  {
   "cell_type": "code",
   "execution_count": 57,
   "metadata": {
    "colab": {
     "base_uri": "https://localhost:8080/",
     "height": 963
    },
    "id": "WVaw3DUA7r1H",
    "outputId": "32d17a14-d37b-4bba-ee3a-e1e43dce8ab7"
   },
   "outputs": [
    {
     "data": {
      "image/png": "[encoded data removed]",
      "text/plain": [
       "<Figure size 640x480 with 1 Axes>"
      ]
     },
     "metadata": {},
     "output_type": "display_data"
    },
    {
     "data": {
      "image/png": "[encoded data removed]",
      "text/plain": [
       "<Figure size 640x480 with 1 Axes>"
      ]
     },
     "metadata": {},
     "output_type": "display_data"
    },
    {
     "name": "stdout",
     "output_type": "stream",
     "text": [
      "13/13 [==============================] - 0s 36ms/step - loss: 0.3649 - accuracy: 0.8600\n",
      "[0.3649178445339203, 0.8600000143051147]\n"
     ]
    }
   ],
   "source": [
    "# see model training history\n",
    "history_dict = history.history\n",
    "history_dict.keys()\n",
    "\n",
    "acc = history_dict['accuracy']\n",
    "val_acc = history_dict['val_accuracy']\n",
    "loss = history_dict['loss']\n",
    "val_loss = history_dict['val_loss']\n",
    "\n",
    "epochs = range(1, len(acc) + 1)\n",
    "\n",
    "# \"bo\" is for \"blue dot\"\n",
    "plt.plot(epochs, loss, 'bo', label='Training loss')\n",
    "# b is for \"solid blue line\"\n",
    "plt.plot(epochs, val_loss, 'b', label='Validation loss')\n",
    "plt.title('Training and validation loss')\n",
    "plt.xlabel('Epochs')\n",
    "plt.ylabel('Loss')\n",
    "plt.legend()\n",
    "\n",
    "plt.show()\n",
    "\n",
    "plt.clf()  # clear figure\n",
    "\n",
    "plt.plot(epochs, acc, 'bo', label='Training acc')\n",
    "plt.plot(epochs, val_acc, 'b', label='Validation acc')\n",
    "plt.title('Training and validation accuracy')\n",
    "plt.xlabel('Epochs')\n",
    "plt.ylabel('Accuracy')\n",
    "plt.legend()\n",
    "\n",
    "plt.show()\n",
    "\n",
    "\n",
    "results = model.evaluate(test_examples, test_labels)  # this return loss value and accuracy\n",
    "print(results)\n",
    "\n"
   ]
  },
  {
   "cell_type": "code",
   "execution_count": 58,
   "metadata": {
    "colab": {
     "base_uri": "https://localhost:8080/"
    },
    "id": "f-WmRgReHOrs",
    "outputId": "290370d8-9fb8-4ea0-a954-09dcec381ea0"
   },
   "outputs": [
    {
     "name": "stdout",
     "output_type": "stream",
     "text": [
      "13/13 [==============================] - 0s 35ms/step\n",
      "              precision    recall  f1-score   support\n",
      "\n",
      "         0.0       0.87      0.85      0.86       200\n",
      "         1.0       0.85      0.87      0.86       200\n",
      "\n",
      "    accuracy                           0.86       400\n",
      "   macro avg       0.86      0.86      0.86       400\n",
      "weighted avg       0.86      0.86      0.86       400\n",
      "\n"
     ]
    }
   ],
   "source": [
    "# another method to evaluate performance\n",
    "predictions = model.predict(test_examples)\n",
    "predictions[predictions >= 0] = 1\n",
    "predictions[predictions < 0] = 0\n",
    "confusionMatrix = confusion_matrix(test_labels, predictions, normalize='pred')\n",
    "acc = metrics.accuracy_score(test_labels, predictions)\n",
    "print(classification_report(test_labels, predictions))"
   ]
  },
  {
   "cell_type": "markdown",
   "metadata": {
    "id": "F7_OW0tKHUBN"
   },
   "source": [
    "Confusion Matrix"
   ]
  },
  {
   "cell_type": "code",
   "execution_count": 59,
   "metadata": {
    "id": "cPR_3QTx1DGN"
   },
   "outputs": [],
   "source": [
    "import numpy as np\n",
    "import matplotlib.pyplot as plt\n",
    "from sklearn.metrics import confusion_matrix\n",
    "import seaborn as sns\n"
   ]
  },
  {
   "cell_type": "code",
   "execution_count": 60,
   "metadata": {
    "colab": {
     "base_uri": "https://localhost:8080/",
     "height": 610
    },
    "id": "Q9tsetS4cEyP",
    "outputId": "c501af47-e6b6-4683-b123-75e01cea9de4"
   },
   "outputs": [
    {
     "name": "stdout",
     "output_type": "stream",
     "text": [
      "13/13 [==============================] - 0s 35ms/step\n"
     ]
    },
    {
     "data": {
      "image/png": "[encoded data removed]",
      "text/plain": [
       "<Figure size 800x600 with 2 Axes>"
      ]
     },
     "metadata": {},
     "output_type": "display_data"
    }
   ],
   "source": [
    "from sklearn.metrics import confusion_matrix\n",
    "import seaborn as sns\n",
    "\n",
    "# Make predictions on the test set\n",
    "predictions = model.predict(test_examples)\n",
    "predictions = (predictions > 0.5)  # Convert probabilities to binary predictions\n",
    "\n",
    "# Define class labels\n",
    "class_labels = [\"good\", \"bad\"]\n",
    "\n",
    "# Create confusion matrix\n",
    "cm = confusion_matrix(test_labels, predictions)\n",
    "\n",
    "# Plot confusion matrix\n",
    "plt.figure(figsize=(8, 6))\n",
    "sns.set(font_scale=1.5)  # Adjust font scale for better readability\n",
    "sns.heatmap(cm, annot=True, fmt=\"d\", cmap=\"Blues\", xticklabels=class_labels, yticklabels=class_labels)\n",
    "plt.xlabel('Predicted')\n",
    "plt.ylabel('Actual')\n",
    "plt.title('Confusion Matrix')\n",
    "plt.show()\n"
   ]
  },
  {
   "cell_type": "code",
   "execution_count": null,
   "metadata": {
    "id": "fgGRzzyuV9S5"
   },
   "outputs": [],
   "source": []
  },
  {
   "cell_type": "code",
   "execution_count": null,
   "metadata": {},
   "outputs": [],
   "source": []
  },
  {
   "cell_type": "code",
   "execution_count": null,
   "metadata": {},
   "outputs": [],
   "source": []
  },
  {
   "cell_type": "code",
   "execution_count": null,
   "metadata": {},
   "outputs": [],
   "source": []
  }
 ],
 "metadata": {
  "accelerator": "TPU",
  "colab": {
   "gpuType": "V28",
   "provenance": []
  },
  "kernelspec": {
   "display_name": "Python 3 (ipykernel)",
   "language": "python",
   "name": "python3"
  },
  "language_info": {
   "codemirror_mode": {
    "name": "ipython",
    "version": 3
   },
   "file_extension": ".py",
   "mimetype": "text/x-python",
   "name": "python",
   "nbconvert_exporter": "python",
   "pygments_lexer": "ipython3",
   "version": "3.8.10"
  }
 },
 "nbformat": 4,
 "nbformat_minor": 4
}
